{
 "cells": [
  {
   "cell_type": "markdown",
   "id": "86a21ac9",
   "metadata": {},
   "source": [
    "The flight ticket rates for a round-trip (Mumbai->Dubai) were as follows: \n",
    "Rate per Adult: Rs. 37550.0 \n",
    "Rate per Child: 1/3rd of the rate per adult \n",
    "Service Tax: 7% of the ticket amount (including all passengers) \n",
    "As it was a holiday season, the airline also offered 10% discount on the final ticket cost (after inclusion of the service tax).\n",
    "Find and display the total ticket cost for a group which had adults and children.\n"
   ]
  },
  {
   "cell_type": "code",
   "execution_count": 9,
   "id": "d0f8b2bc",
   "metadata": {},
   "outputs": [
    {
     "name": "stdout",
     "output_type": "stream",
     "text": [
      "Total Ticket Cost: 204910.35\n"
     ]
    }
   ],
   "source": [
    "def calculate_total_ticket_cost(no_of_adults, no_of_children):\n",
    "    total_ticket_cost=0\n",
    "    #Write your logic here\n",
    "    total=0\n",
    "#     total_amount=0\n",
    "    rate_per_adult=37550\n",
    "    rate_per_child=(rate_per_adult)/3\n",
    "#     service_tax=(rate_per_adult+rate_per_child)*0.07\n",
    "    total=(rate_per_adult*no_of_adults)+(rate_per_child*no_of_children)\n",
    "    service_tax=total*(7/100)\n",
    "    total=total+service_tax\n",
    "    total_ticket_cost=total-(total*(10/100))\n",
    "\n",
    "    return total_ticket_cost\n",
    "\n",
    "\n",
    "#Provide different values for no_of_adults, no_of_children and test your program\n",
    "total_ticket_cost=calculate_total_ticket_cost(5,2)\n",
    "print(\"Total Ticket Cost:\",total_ticket_cost)"
   ]
  },
  {
   "cell_type": "markdown",
   "id": "3715f1ed",
   "metadata": {},
   "source": [
    "Write a Python program that converts temperature in Celsius to Fahrenheit and vice versa. Implement the requirements using functions.\n",
    "Hint: 0C= (0F-32)*(5/9)"
   ]
  },
  {
   "cell_type": "code",
   "execution_count": 15,
   "id": "f0c3e2a7",
   "metadata": {},
   "outputs": [
    {
     "name": "stdout",
     "output_type": "stream",
     "text": [
      "temperature in celcius:  37.78\n"
     ]
    }
   ],
   "source": [
    "def temperature(fahrenheit):\n",
    "    celsius=round((fahrenheit-32)*(5/9),2)\n",
    "    return celsius\n",
    "\n",
    "cel=temperature(100)\n",
    "print(\"temperature in celcius: \",cel)\n",
    "    "
   ]
  },
  {
   "cell_type": "markdown",
   "id": "53fc3919",
   "metadata": {},
   "source": [
    "Write a python program that displays a message as follows for a given number:\n",
    "If it is a multiple of three, display \"Zip\"\n",
    "If it is a multiple of five, display \"Zap\".\n",
    "If it is a multiple of both three and five, display \"Zoom\".\n",
    "If it does not satisfy any of the above given conditions, display \"Invalid\"."
   ]
  },
  {
   "cell_type": "code",
   "execution_count": 18,
   "id": "cbd6384c",
   "metadata": {},
   "outputs": [
    {
     "name": "stdout",
     "output_type": "stream",
     "text": [
      "45\n",
      "Zoom\n"
     ]
    }
   ],
   "source": [
    "number=int(input())\n",
    "if (number%3==0) and (number%5==0):\n",
    "    print(\"Zoom\")\n",
    "elif (number%5==0):\n",
    "    print(\"Zap\")\n",
    "elif (number%3==0):\n",
    "    print(\"Zip\")\n",
    "else:\n",
    "    print(\"invalid\")\n",
    "    "
   ]
  },
  {
   "cell_type": "code",
   "execution_count": 20,
   "id": "94246187",
   "metadata": {},
   "outputs": [],
   "source": [
    "for variable_1 in range(1,5,-1):\n",
    "    print(\"executed\")"
   ]
  },
  {
   "cell_type": "code",
   "execution_count": 21,
   "id": "de425c84",
   "metadata": {},
   "outputs": [],
   "source": [
    "for i in range(1,5,-1):\n",
    "    print(\"e\")"
   ]
  },
  {
   "cell_type": "markdown",
   "id": "37dd2aeb",
   "metadata": {},
   "source": [
    "Write a Python program to find the sum of digits of a given number. E.g. Sum of number 123 will be 6\n",
    "Note: Initialize the number with various values and test your program."
   ]
  },
  {
   "cell_type": "code",
   "execution_count": 24,
   "id": "c7e6799f",
   "metadata": {},
   "outputs": [
    {
     "name": "stdout",
     "output_type": "stream",
     "text": [
      "Sum of digits: 6\n"
     ]
    }
   ],
   "source": [
    "def find_sum_of_digits(number):\n",
    "    sum_of_digits=0\n",
    "    #Write your logic here\n",
    "    while (number!=0):\n",
    "        sum_of_digits+=(number%10)\n",
    "        number//=10\n",
    "    return sum_of_digits\n",
    "\n",
    "#Provide different values for number and test your program\n",
    "sum_of_digits=find_sum_of_digits(123)\n",
    "print(\"Sum of digits:\",sum_of_digits)\n",
    "                                        "
   ]
  },
  {
   "cell_type": "markdown",
   "id": "72bbd82d",
   "metadata": {},
   "source": [
    "FoodCorner home delivers vegetarian and non-vegetarian combos to its customer based on order.\n",
    "\n",
    "A vegetarian combo costs Rs.120 per plate and a non-vegetarian combo costs Rs.150 per plate. Their non-veg combo is really famous that they get more orders for their non-vegetarian combo than the vegetarian combo.\n",
    "Apart from the cost per plate of food, customers are also charged for home delivery based on the distance in kms from the restaurant to the delivery point. The delivery charges are as mentioned below:\n",
    "\n",
    "Distance in kms\n",
    "Delivery charge in Rs per km\n",
    "For first 3kms\n",
    "0\n",
    "For next 3kms\n",
    "3\n",
    "For the remaining\n",
    "6\n",
    "\n",
    "Given the type of food, quantity (no. of plates) and the distance in kms from the restaurant to the delivery point, write a python program to calculate the final bill amount to be paid by a customer. \n",
    "The below information must be used to check the validity of the data provided by the customer: \n",
    "Type of food must be ‘V’ for vegetarian and ‘N’ for non-vegetarian.\n",
    "Distance in kms must be greater than 0.\n",
    "Quantity ordered should be minimum 1.\n",
    "If any of the input is invalid, the bill amount should be considered as -1."
   ]
  },
  {
   "cell_type": "code",
   "execution_count": 1,
   "id": "c183225d",
   "metadata": {},
   "outputs": [
    {
     "name": "stdout",
     "output_type": "stream",
     "text": [
      "156\n"
     ]
    }
   ],
   "source": [
    "def calculate_bill_amount(food_type,quantity_ordered,distance_in_kms):\n",
    "    bill_amount=0\n",
    "    #write your logic here\n",
    "    \n",
    "    if (food_type=='V') and (quantity_ordered>=1):\n",
    "        if 0<distance_in_kms<=3:\n",
    "            bill_amount=(quantity_ordered*120)\n",
    "        elif 3<distance_in_kms<=6:\n",
    "            bill_amount=(quantity_ordered*120)+(3*(distance_in_kms-3))\n",
    "        elif distance_in_kms>6:\n",
    "            bill_amount=(quantity_ordered*120)+(6*(distance_in_kms-6))\n",
    "        else:\n",
    "            return -1\n",
    "    elif (food_type=='N') and (quantity_ordered>=1):\n",
    "        if 0<distance_in_kms<=3:\n",
    "            bill_amount=(quantity_ordered*150)\n",
    "        elif 3<distance_in_kms<=6:\n",
    "            bill_amount=(quantity_ordered*150)+(3*(distance_in_kms-3))\n",
    "        elif distance_in_kms>6:\n",
    "            bill_amount=(quantity_ordered*150)+(6*(distance_in_kms-6))\n",
    "        else:\n",
    "            return -1\n",
    "    else:\n",
    "        return -1\n",
    "    return bill_amount\n",
    "\n",
    "#Provide different values for food_type,quantity_ordered,distance_in_kms and test your program\n",
    "bill_amount=calculate_bill_amount(\"N\",1,7)\n",
    "print(bill_amount)"
   ]
  },
  {
   "cell_type": "markdown",
   "id": "1710c8be",
   "metadata": {},
   "source": [
    "Write a python program to find and display the product of three positive integer values based on the rule mentioned below:\n",
    "\n",
    "It should display the product of the three values except when one of the integer value is 7. In that case, 7 should not be included in the product and the values to its left also should not be included.\n",
    "If there is only one value to be considered, display that value itself. If no values can be included in the product, display -1.\n",
    "\n",
    "Note: Assume that if 7 is one of the positive integer values, then it will occur only once. Refer the sample I/O given below.\n",
    "\n",
    "Sample Input\n",
    "\n",
    "Expected Output\n",
    "\n",
    "1, 5, 3\n",
    "\n",
    "15\n",
    "\n",
    "3, 7, 8\n",
    "\n",
    "8\n",
    "\n",
    "7, 4, 3\n",
    "\n",
    "12\n",
    "\n",
    "1, 5, 7\n",
    "\n",
    "-1\n",
    "\n",
    "Note: Assignment should be done in Eclipse Plug-in"
   ]
  },
  {
   "cell_type": "code",
   "execution_count": 25,
   "id": "ee508cf9",
   "metadata": {},
   "outputs": [
    {
     "name": "stdout",
     "output_type": "stream",
     "text": [
      "8\n"
     ]
    }
   ],
   "source": [
    "def find_product(num1,num2,num3):\n",
    "    product=0\n",
    "    if (num1!=7) & (num2!=7) & (num3!=7):\n",
    "        product=num1*num2*num3   \n",
    "    elif num1==7:\n",
    "        product=(num2*num3)\n",
    "    elif num2==7:\n",
    "        product=num3\n",
    "    else:\n",
    "        product=-1\n",
    "    return product\n",
    "#Provide different values for num1, num2, num3 and test your program\n",
    "product=find_product(3,7,8)\n",
    "print(product)"
   ]
  },
  {
   "cell_type": "code",
   "execution_count": 23,
   "id": "a38bbc51",
   "metadata": {},
   "outputs": [
    {
     "name": "stdout",
     "output_type": "stream",
     "text": [
      "-1\n"
     ]
    }
   ],
   "source": [
    "def find_product(num1,num2,num3):\n",
    "    product=0\n",
    "    if num2==7:\n",
    "        product=num3\n",
    "    elif num1==7:\n",
    "        product=num2*num3\n",
    "    elif (num1!=7) & (num2!=7) & (num3!=7):\n",
    "        product=num1*num2*num3\n",
    "    else:\n",
    "        product=-1\n",
    "        \n",
    "    return product\n",
    "product=find_product(1,5,7)\n",
    "print(product)"
   ]
  },
  {
   "cell_type": "markdown",
   "id": "bdbc3774",
   "metadata": {},
   "source": [
    "Write a python function to check whether three given numbers can form the sides of a triangle. "
   ]
  },
  {
   "cell_type": "code",
   "execution_count": 1,
   "id": "c0ae557d",
   "metadata": {},
   "outputs": [
    {
     "data": {
      "text/plain": [
       "'Triangle can be formed'"
      ]
     },
     "execution_count": 1,
     "metadata": {},
     "output_type": "execute_result"
    }
   ],
   "source": [
    "def form_triangle(num1,num2,num3):\n",
    "    #Do not change the messages provided below\n",
    "    success=\"Triangle can be formed\"\n",
    "    failure=\"Triangle can't be formed\"\n",
    "\n",
    "    #Write your logic here\n",
    "    if (num1<(num2+num3)) & (num2<(num1+num3)) &(num3<(num2+num1)):\n",
    "        return success\n",
    "    else:\n",
    "        return failure\n",
    "\n",
    "    #Use the following messages to return the result wherever necessary\n",
    "    \n",
    "\n",
    "\n",
    "#Provide different values for the variables, num1, num2, num3 and test your program\n",
    "num1=3\n",
    "num2=3\n",
    "num3=5\n",
    "form_triangle(num1, num2, num3)"
   ]
  },
  {
   "cell_type": "markdown",
   "id": "95c9e7cb",
   "metadata": {},
   "source": [
    "The Metro Bank provides various types of loans such as car loans, business loans and house loans to its account holders. Write a python program to implement the following requirements:\n",
    "\n",
    "Initialize the following variables with appropriate input values:account_number, account_balance, salary, loan_type, loan_amount_expected and customer_emi_expected.\n",
    "\n",
    "The account number should be of 4 digits and its first digit should be 1.\n",
    "\n",
    "The customer should have a minimum balance of Rupees 1 Lakh in the account.\n",
    "\n",
    "If the above rules are valid, determine the eligible loan amount and the EMI that the bank can provide to its customers based on their salary and the loan type they expect to avail.\n",
    "\n",
    "The bank would provide the loan, only if the loan amount and the number of EMI’s requested by the customer is less than or equal to the loan amount and the number of EMI’s decided by the bank respectively.\n",
    "\n",
    "Display appropriate error messages for all invalid data. If all the business rules are satisfied ,then display account number, eligible and requested loan amount and EMI’s.\n",
    "Test your code by providing different values for the input variables.\n",
    "\n",
    "Salary\n",
    "\n",
    "Loan type\n",
    "\n",
    "Eligible loan amount\n",
    "\n",
    "No. of EMI’s required to repay\n",
    "\n",
    "> 25000\n",
    "\n",
    "Car\n",
    "\n",
    "500000\n",
    "\n",
    "36\n",
    "\n",
    "> 50000\n",
    "\n",
    "House\n",
    "\n",
    "6000000\n",
    "\n",
    "60\n",
    "\n",
    "> 75000\n",
    "\n",
    "Business\n",
    "\n",
    "7500000\n",
    "\n",
    "84\n",
    "\n",
    " "
   ]
  },
  {
   "cell_type": "code",
   "execution_count": null,
   "id": "0efaf340",
   "metadata": {},
   "outputs": [],
   "source": [
    "def calculate_loan(account_number,salary,account_balance,loan_type,loan_amount_expected,customer_emi_expected):\n",
    "    eligible_loan_amount=0\n",
    "    bank_emi_expected=0\n",
    "    eligible_loan_amount=0\n",
    "    if (len(account_number)==4) and (999<account_number<2000):\n",
    "        if account_balance>=100000:\n",
    "            if \n",
    "            \n",
    "    \n",
    "    \n",
    "calculate_loan(1001,40000,250000,\"Car\",300000,30)"
   ]
  }
 ],
 "metadata": {
  "kernelspec": {
   "display_name": "Python 3 (ipykernel)",
   "language": "python",
   "name": "python3"
  },
  "language_info": {
   "codemirror_mode": {
    "name": "ipython",
    "version": 3
   },
   "file_extension": ".py",
   "mimetype": "text/x-python",
   "name": "python",
   "nbconvert_exporter": "python",
   "pygments_lexer": "ipython3",
   "version": "3.11.4"
  }
 },
 "nbformat": 4,
 "nbformat_minor": 5
}
