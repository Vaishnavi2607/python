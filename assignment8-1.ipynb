{
 "cells": [
  {
   "cell_type": "markdown",
   "id": "e1c4f877",
   "metadata": {},
   "source": [
    "1. Write function which takes two parameters account no and name of the user.\n"
   ]
  },
  {
   "cell_type": "code",
   "execution_count": 3,
   "id": "52b82362",
   "metadata": {},
   "outputs": [
    {
     "data": {
      "text/plain": [
       "True"
      ]
     },
     "execution_count": 3,
     "metadata": {},
     "output_type": "execute_result"
    }
   ],
   "source": [
    "def account_details(accno,name):\n",
    "    if 999<accno<5000:\n",
    "        if name.isalpha()==True:\n",
    "            return True\n",
    "        else:\n",
    "            return None\n",
    "    else:\n",
    "        msg=\"Account no is invalid\"\n",
    "        return msg\n",
    "account_details(4344,'Nayana')"
   ]
  },
  {
   "cell_type": "markdown",
   "id": "be5e426e",
   "metadata": {},
   "source": [
    " 2. WA function to calculate total salary given that\n",
    " 1. post      2. basic salary"
   ]
  },
  {
   "cell_type": "code",
   "execution_count": 4,
   "id": "8c401a88",
   "metadata": {},
   "outputs": [
    {
     "name": "stdout",
     "output_type": "stream",
     "text": [
      "29000\n"
     ]
    }
   ],
   "source": [
    "def basesal(post,base_sal):\n",
    "    if post.lower()=='manager':\n",
    "        TA=5000\n",
    "        HRA=20000\n",
    "    else:\n",
    "        TA=10000\n",
    "        HRA=12000\n",
    "    total_sal=base_sal+TA+HRA\n",
    "    return total_sal\n",
    "\n",
    "print(basesal('employ',7000))"
   ]
  },
  {
   "cell_type": "markdown",
   "id": "36950789",
   "metadata": {},
   "source": [
    "3. WA function to rotate given string by 2 position to right\n",
    "Ex. s1=”IACSD” Rotate by 2 place to right “SDIAC”"
   ]
  },
  {
   "cell_type": "code",
   "execution_count": 6,
   "id": "e4fa3598",
   "metadata": {},
   "outputs": [
    {
     "name": "stdout",
     "output_type": "stream",
     "text": [
      "sdiac\n"
     ]
    }
   ],
   "source": [
    "def rotate(name):\n",
    "    nm=name[-2:]+name[:-2]\n",
    "    return nm\n",
    "print(rotate(\"iacsd\"))"
   ]
  },
  {
   "cell_type": "markdown",
   "id": "c0f8ce01",
   "metadata": {},
   "source": [
    "4. Generalize above function to rotate string to right by n"
   ]
  },
  {
   "cell_type": "code",
   "execution_count": 8,
   "id": "7db8fd8a",
   "metadata": {},
   "outputs": [
    {
     "name": "stdout",
     "output_type": "stream",
     "text": [
      "naNaya\n"
     ]
    }
   ],
   "source": [
    "def rotate_1(name,num):\n",
    "    a=name[-num:]+name[:-num]\n",
    "    return a\n",
    "print(rotate_1('Nayana',2))"
   ]
  },
  {
   "cell_type": "markdown",
   "id": "86b8f2ab",
   "metadata": {},
   "source": [
    "5.  Generalize above function to rotate string by n to right or left"
   ]
  },
  {
   "cell_type": "code",
   "execution_count": 11,
   "id": "e0ff80a7",
   "metadata": {},
   "outputs": [
    {
     "name": "stdout",
     "output_type": "stream",
     "text": [
      "diacs\n"
     ]
    }
   ],
   "source": [
    "def rotate_name(name,num,side):\n",
    "    if side.lower()=='right':\n",
    "        nm=name[-num:]+name[:-num]\n",
    "    else:\n",
    "        nm=name[num:]+name[:num]\n",
    "    return nm\n",
    "print(rotate_name(\"iacsd\",4,'left'))"
   ]
  },
  {
   "cell_type": "markdown",
   "id": "29febc82",
   "metadata": {},
   "source": [
    "6. WAP to count number of passengers in every airline. Here we are given dictionary of passanger id and airline id\n",
    "Ex\n",
    "input_dir ={'p1':'a1','p2':'a10','p89':'a1','p5':'a10'}\n",
    "output: {'a1':2, 'a10':2}\n"
   ]
  },
  {
   "cell_type": "code",
   "execution_count": 9,
   "id": "4c9dda3a",
   "metadata": {},
   "outputs": [
    {
     "name": "stdout",
     "output_type": "stream",
     "text": [
      "{'a1': 2, 'a10': 2}\n"
     ]
    }
   ],
   "source": [
    "def pass_count(d1):\n",
    "    d2=dict()\n",
    "    val=list(d1.values())\n",
    "    #key=set(val)#d1.keys()=[p1,p2,p89,p5]\n",
    "    for vs in val:\n",
    "        d2[vs]=val.count(vs)\n",
    "    return d2\n",
    "d1={'p1':'a1','p2':'a10','p89':'a1','p5':'a10'}\n",
    "print(pass_count(d1))"
   ]
  },
  {
   "cell_type": "markdown",
   "id": "9193e663",
   "metadata": {},
   "source": [
    "7. given a list of strings.\n",
    "every string is in format \"Emp_name:Emp_id\"\n",
    "Emp_id is always a number\n",
    "if emp_id is amstrong number then rotate emp_name 1 place to the right --> and print the emp_name\n",
    "if emp_id is a prime no then print vowels from the employee name\n",
    "in other cases print consonents from the emp name\n",
    "Finally there should be print of every employee name as per given condition"
   ]
  },
  {
   "cell_type": "code",
   "execution_count": 13,
   "id": "0b5953cb",
   "metadata": {},
   "outputs": [
    {
     "name": "stdout",
     "output_type": "stream",
     "text": [
      "anayan\n",
      "aai\n",
      "rt\n"
     ]
    }
   ],
   "source": [
    "def is_armstrong(num):\n",
    "    po=len(num)\n",
    "    sum=0\n",
    "    for n in num:\n",
    "        sum+=int(n)**po\n",
    "    if sum==int(num):\n",
    "        return True\n",
    "    else:\n",
    "        return False\n",
    "\n",
    "def rotate_name(name):\n",
    "    nm=name[-1:]+name[:-1]\n",
    "    return nm\n",
    "\n",
    "def is_prime(num):\n",
    "    count=0\n",
    "    num=int(num)\n",
    "    for i in range(2,int(num**0.5)):\n",
    "        if num%i==0:\n",
    "            count+=1\n",
    "    if count>0:\n",
    "        return False\n",
    "    else:\n",
    "        return True\n",
    "    \n",
    "def vowel_list(name,choice):\n",
    "    vowel=consonents=''\n",
    "    for ch in name.lower():\n",
    "        if ch==\"a\" or ch==\"e\" or ch==\"i\" or ch==\"o\" or ch==\"u\":\n",
    "            vowel+=ch\n",
    "        else:\n",
    "            consonents+=ch\n",
    "    if choice==1:\n",
    "        return vowel\n",
    "    else:\n",
    "        return consonents\n",
    "\n",
    "def check(l1):\n",
    "    for ele in l1:\n",
    "        emp_name,emp_id=ele.split(':')\n",
    "        if is_armstrong(emp_id):\n",
    "            print(rotate_name(emp_name))\n",
    "        elif is_prime(emp_id):\n",
    "            print(vowel_list(emp_name,1))\n",
    "        else:\n",
    "            print(vowel_list(emp_name,0))\n",
    "check(['nayana:153','arnavi:11','ritu:33'])"
   ]
  },
  {
   "cell_type": "markdown",
   "id": "9e723746",
   "metadata": {},
   "source": [
    "8. Write a function which takes all details of a person as input in sequence and prints details as follows\n",
    "(Hint: Think which type of parameter to be used for every option)\n",
    "a. Take name and Print it in Camel Case\n",
    "b. Take 10 digit Mobile No and print it appending +91\n",
    "c. Take location as optional value. If not given then print India\n",
    "d. Take Qualifications. Qualifications can be 1 or 2 or many.\n",
    "Print all the passed qualifications one by one. Default qualification is \"Human\""
   ]
  },
  {
   "cell_type": "code",
   "execution_count": 15,
   "id": "0af105fa",
   "metadata": {},
   "outputs": [
    {
     "name": "stdout",
     "output_type": "stream",
     "text": [
      "NAYANA\n",
      "+917987330603\n",
      "USA\n",
      "('Something', 'Something else')\n"
     ]
    }
   ],
   "source": [
    "def fnq8(arg1,arg2,arg3='India',*arg4):\n",
    "    print(arg1.upper())\n",
    "    print('+91',arg2,sep='')\n",
    "    print(arg3)\n",
    "    \n",
    "    if not arg4:\n",
    "        arg4 = ('Human')\n",
    "    print(arg4)\n",
    "         \n",
    "fnq8('nayana','7987330603','USA','Something','Something else')\n"
   ]
  },
  {
   "cell_type": "markdown",
   "id": "76fcbfc0",
   "metadata": {},
   "source": [
    "9. Create a function \"cloth_details\" with three arguments, color, shape and size. All three are optional and can be passed in any sequence by the user."
   ]
  },
  {
   "cell_type": "code",
   "execution_count": 18,
   "id": "d2bfa458",
   "metadata": {},
   "outputs": [
    {
     "name": "stdout",
     "output_type": "stream",
     "text": [
      "blue\n",
      "regular\n",
      "32\n"
     ]
    }
   ],
   "source": [
    "def cloth_details(color='Black', shape='Slim Fit',size=29 ):\n",
    "    print(color)\n",
    "    print(shape)\n",
    "    print(size)\n",
    "\n",
    "cloth_details(\"blue\",'regular',32)"
   ]
  },
  {
   "cell_type": "code",
   "execution_count": 19,
   "id": "ddd6915b",
   "metadata": {},
   "outputs": [
    {
     "name": "stdout",
     "output_type": "stream",
     "text": [
      "Black\n",
      "Slim Fit\n",
      "29\n"
     ]
    }
   ],
   "source": [
    "cloth_details()"
   ]
  },
  {
   "cell_type": "markdown",
   "id": "1a87592b",
   "metadata": {},
   "source": [
    "10. Create a calculator.py file \n",
    "Create add(), subtract(), multiply(), divide(), power(), log() functions\n",
    "Create a menu driven program to take values and operation as input from user and print result using these functions\n",
    "\n",
    "Take ONLY integer inputs from user. If its not an integer then give Error message -> \"WRONG Input: Please enter ONLY integer value\"\n",
    "Your program should not give \"ValueError\" while using int() function for any input from below, It should display YOUR error message\n",
    "Enter a number : 10\n",
    "Enter a number : 10.9\n",
    "Enter a number : ABC\n",
    "(Hint: Think about methods from string data type to check input as integer)"
   ]
  },
  {
   "cell_type": "code",
   "execution_count": 1,
   "id": "9364f9c3",
   "metadata": {},
   "outputs": [
    {
     "name": "stdout",
     "output_type": "stream",
     "text": [
      "press 1 to add \n",
      " press 2 to subtract \n",
      " press 3 to divide \n",
      " press 4 to power \n",
      " press 5 for log \n",
      " press 6 to exit\n",
      "the choice1\n",
      "enter the number5\n",
      "enter the number6\n",
      "11\n",
      "the choice2\n",
      "enter the number6\n",
      "enter the number4\n",
      "2\n",
      "the choice3\n",
      "enter the number6\n",
      "enter the number7\n",
      "0\n",
      "the choice4\n",
      "enter the number5\n",
      "enter the number6\n",
      "15625\n",
      "the choice6\n",
      "exiting\n"
     ]
    }
   ],
   "source": [
    "import math\n",
    "def add():\n",
    "    a=int(input('enter the number'))\n",
    "    b=int(input('enter the number'))\n",
    "    sum_1=(lambda a,b: a+b )(a,b)\n",
    "    print(sum_1)\n",
    "    \n",
    "def subtract():\n",
    "    a=int(input('enter the number'))\n",
    "    b=int(input('enter the number'))\n",
    "    sub_1=(lambda a,b: a-b )(a,b)\n",
    "    print(sub_1)\n",
    "\n",
    "def divide():\n",
    "    a=int(input('enter the number'))\n",
    "    b=int(input('enter the number'))\n",
    "    did=(lambda a,b: a//b )(a,b)\n",
    "    print(did)\n",
    "    \n",
    "def power():\n",
    "    a=int(input('enter the number'))\n",
    "    b=int(input('enter the number'))\n",
    "    power=(lambda a,b: a**b )(a,b)\n",
    "    print(power)\n",
    "    \n",
    "def log():\n",
    "    a=int(input('enter the number'))\n",
    "    log_1=(lambda a: math.log(a) )(a)\n",
    "    print(log_1)\n",
    "    \n",
    "\n",
    "\n",
    "\n",
    "def calculator():\n",
    "     while(True):\n",
    "            \n",
    "            choice=int(input(\"the choice\"))\n",
    "            match choice:\n",
    "                case 1:\n",
    "                    add()\n",
    "            \n",
    "                case 2:\n",
    "                    subtract()\n",
    "            \n",
    "                case 3:\n",
    "                    divide()\n",
    "                \n",
    "                case 4:\n",
    "                    power()\n",
    "            \n",
    "                case 5:\n",
    "                    log()\n",
    "                \n",
    "                case 6:\n",
    "                    print('exiting')\n",
    "                    break\n",
    "                \n",
    "                \n",
    "            \n",
    "            \n",
    "                    \n",
    "print('press 1 to add \\n press 2 to subtract \\n press 3 to divide \\n press 4 to power \\n press 5 for log \\n press 6 to exit')    \n",
    "calculator()"
   ]
  },
  {
   "cell_type": "markdown",
   "id": "dd396fce",
   "metadata": {},
   "source": [
    "11. Take ONLY integer inputs from user. If its not an integer then give Error message -> \"WRONG Input: Please enter ONLY integer value\"\n",
    "Your program should not give \"ValueError\" while using int() function for any input from below, It should display YOUR error message\n",
    "Enter a number : 10\n",
    "Enter a number : 10.9\n",
    "Enter a number : ABC\n",
    "(Hint: Think about methods from string data type to check input as integer)"
   ]
  },
  {
   "cell_type": "code",
   "execution_count": 2,
   "id": "12fada3d",
   "metadata": {},
   "outputs": [
    {
     "name": "stdout",
     "output_type": "stream",
     "text": [
      "WRONG INPUT\n"
     ]
    }
   ],
   "source": [
    "def check_1(number):\n",
    "    if isinstance(number,int)==True:\n",
    "        return True\n",
    "    else:\n",
    "        return 'WRONG INPUT'\n",
    "    \n",
    "print(check_1('ABC'))\n",
    "        "
   ]
  },
  {
   "cell_type": "code",
   "execution_count": null,
   "id": "319d724b",
   "metadata": {},
   "outputs": [],
   "source": []
  }
 ],
 "metadata": {
  "kernelspec": {
   "display_name": "Python 3 (ipykernel)",
   "language": "python",
   "name": "python3"
  },
  "language_info": {
   "codemirror_mode": {
    "name": "ipython",
    "version": 3
   },
   "file_extension": ".py",
   "mimetype": "text/x-python",
   "name": "python",
   "nbconvert_exporter": "python",
   "pygments_lexer": "ipython3",
   "version": "3.11.4"
  }
 },
 "nbformat": 4,
 "nbformat_minor": 5
}
