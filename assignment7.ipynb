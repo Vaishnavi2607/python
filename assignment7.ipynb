{
 "cells": [
  {
   "cell_type": "markdown",
   "id": "fb1792a0",
   "metadata": {},
   "source": [
    "Q WA function to take a number as parameter and  print True if given number is even else print False"
   ]
  },
  {
   "cell_type": "code",
   "execution_count": 1,
   "id": "84fa7f83",
   "metadata": {},
   "outputs": [],
   "source": [
    "def check_even(n):\n",
    "    if n%2 == 0:\n",
    "        print(\"True\")\n",
    "    else:\n",
    "        print(\"False\")"
   ]
  },
  {
   "cell_type": "code",
   "execution_count": 2,
   "id": "ba967de5",
   "metadata": {},
   "outputs": [
    {
     "name": "stdout",
     "output_type": "stream",
     "text": [
      "True\n"
     ]
    }
   ],
   "source": [
    "check_even(10)"
   ]
  },
  {
   "cell_type": "markdown",
   "id": "99d8ae6f",
   "metadata": {},
   "source": [
    "Q WA function to take list as parameter \n",
    "and print all numbers of given list which are divisible by 11"
   ]
  },
  {
   "cell_type": "code",
   "execution_count": 3,
   "id": "cdb1a85e",
   "metadata": {},
   "outputs": [
    {
     "name": "stdout",
     "output_type": "stream",
     "text": [
      "11\n",
      "33\n",
      "99\n",
      "[11, 33, 99]\n"
     ]
    }
   ],
   "source": [
    "def print_div11(list1):\n",
    "    for e in list1:\n",
    "        if e%11 ==0:\n",
    "            print(e)\n",
    "\n",
    "def print_div11_v1(list1):\n",
    "    new_list = [ e for e in list1 if e%11==0 ]\n",
    "    print(new_list)\n",
    "    \n",
    "l=[11,56,89,33,99]\n",
    "print_div11(l)\n",
    "print_div11_v1(l)"
   ]
  },
  {
   "cell_type": "markdown",
   "id": "1d13e23e",
   "metadata": {},
   "source": [
    "Q WA function to take a string as parameter. \n",
    " Print its alternate characters starting from 2nd character"
   ]
  },
  {
   "cell_type": "code",
   "execution_count": 4,
   "id": "313e0b63",
   "metadata": {},
   "outputs": [
    {
     "name": "stdout",
     "output_type": "stream",
     "text": [
      "ADD\n"
     ]
    }
   ],
   "source": [
    "def alternate(s1):\n",
    "    print(s1[1::2])\n",
    "alternate(\"NANDED\")"
   ]
  },
  {
   "cell_type": "markdown",
   "id": "23ef8895",
   "metadata": {},
   "source": [
    "Q WA function to take dictionary as parameter.  Print all keys of the dictionary"
   ]
  },
  {
   "cell_type": "code",
   "execution_count": 16,
   "id": "49413bd0",
   "metadata": {},
   "outputs": [
    {
     "name": "stdout",
     "output_type": "stream",
     "text": [
      "k1\n",
      "k2\n",
      "89\n",
      "['k1', 'k2', 89]\n"
     ]
    }
   ],
   "source": [
    "def print_keys(d1):\n",
    "    for key in d1:\n",
    "        print(key)\n",
    "    print(list(d1.keys()))\n",
    "d={\"k1\":45,\"k2\":78,89:100}\n",
    "print_keys(d)"
   ]
  },
  {
   "cell_type": "markdown",
   "id": "a2b4cfe5",
   "metadata": {},
   "source": [
    " Q WA function to take a dictionary as parameter. Print value of key \"name\" if key \"rollno\" is having value 100."
   ]
  },
  {
   "cell_type": "code",
   "execution_count": 18,
   "id": "29dfb9ca",
   "metadata": {},
   "outputs": [
    {
     "name": "stdout",
     "output_type": "stream",
     "text": [
      "iacsd\n"
     ]
    }
   ],
   "source": [
    "def check(d1):\n",
    "    if d1['rollno'] ==100:\n",
    "        print(d1['name'])\n",
    "d={'name':\"iacsd\",'rollno':500}\n",
    "d_new={'name':\"iacsd\",'rollno':100}\n",
    "check(d)\n",
    "check(d_new)"
   ]
  },
  {
   "cell_type": "markdown",
   "id": "1ab8a7bd",
   "metadata": {},
   "source": [
    "WA to take dictionary as parameter print value of key 'price' if key 'item' is milk"
   ]
  },
  {
   "cell_type": "code",
   "execution_count": 22,
   "id": "0109f861",
   "metadata": {},
   "outputs": [
    {
     "name": "stdout",
     "output_type": "stream",
     "text": [
      "200\n"
     ]
    }
   ],
   "source": [
    "def check(d1):\n",
    "    if d1['item'] == 'milk':\n",
    "        print(d1['price'])\n",
    "d={'item':'milk','price':200}\n",
    "check(d)"
   ]
  },
  {
   "cell_type": "markdown",
   "id": "d80026b4",
   "metadata": {},
   "source": [
    "Q WA function to take list of \n",
    "strings as parameter and \n",
    "print all strings which have character 's' 2 times"
   ]
  },
  {
   "cell_type": "code",
   "execution_count": 23,
   "id": "02a90034",
   "metadata": {},
   "outputs": [
    {
     "name": "stdout",
     "output_type": "stream",
     "text": [
      "kluss\n",
      "kluss\n",
      "ssd\n",
      "ssd\n"
     ]
    }
   ],
   "source": [
    "def check(list_str):\n",
    "    for word in list_str:\n",
    "        # check if word has charcter 's' 2 times\n",
    "        # Approach 1\n",
    "        count=0\n",
    "        for char in word:\n",
    "            if char =='s':\n",
    "                count +=1\n",
    "        if count == 2:\n",
    "            print(word)\n",
    "        ## Approach 1    \n",
    "        if word.count('s') == 2:\n",
    "            print(word)\n",
    "l=[\"abc\",\"sss\",\"kluss\",\"ssd\",\"fghj\"]\n",
    "check(l)"
   ]
  },
  {
   "cell_type": "markdown",
   "id": "208a06de",
   "metadata": {},
   "source": [
    "Q WA function to take list of dictionaries. \n",
    "Print all dictionaries which contain key \"id\"."
   ]
  },
  {
   "cell_type": "code",
   "execution_count": 24,
   "id": "9a8c4db1",
   "metadata": {},
   "outputs": [
    {
     "name": "stdout",
     "output_type": "stream",
     "text": [
      "{'id': 345, 'name': 'abcd', 'college': 'pune'}\n",
      "{'name': 'a', 'college': 'mumbai', 'id': 890}\n"
     ]
    }
   ],
   "source": [
    "def check_id(list_dict):\n",
    "    for d in list_dict:\n",
    "        if 'id' in d.keys():\n",
    "            print(d)\n",
    "list_d = [{'bookid':'123','bookname':\"python\"},\n",
    "         {'id':345,'name':'abcd','college':'pune'},\n",
    "         {'movieid':234,'moviename':'xyz'},\n",
    "          {'name':'a','college':'mumbai','id':890},\n",
    "         ]\n",
    "check_id(list_d)"
   ]
  },
  {
   "cell_type": "markdown",
   "id": "f418eb56",
   "metadata": {},
   "source": [
    "Q WA function to take string as parameter\n",
    "Check if string is palindrome or not If palindrome return 1 if not palindrome return 0"
   ]
  },
  {
   "cell_type": "code",
   "execution_count": 28,
   "id": "7cac45fb",
   "metadata": {},
   "outputs": [
    {
     "name": "stdout",
     "output_type": "stream",
     "text": [
      "0\n",
      "0\n",
      "1\n"
     ]
    }
   ],
   "source": [
    "def check_palindrome(string1):\n",
    "    if string1 == string1[::-1]:\n",
    "        return 1\n",
    "    else:\n",
    "        return 0\n",
    "print(check_palindrome('vaishnavi'))\n",
    "print(check_palindrome('abcd'))\n",
    "print(check_palindrome('yessey'))"
   ]
  },
  {
   "cell_type": "markdown",
   "id": "685a9be7",
   "metadata": {},
   "source": [
    " WA function to check if number is prime or not. Return True if number is prime and false if number not prime.\n"
   ]
  },
  {
   "cell_type": "code",
   "execution_count": 29,
   "id": "e3a9d0ca",
   "metadata": {},
   "outputs": [
    {
     "data": {
      "text/plain": [
       "True"
      ]
     },
     "execution_count": 29,
     "metadata": {},
     "output_type": "execute_result"
    }
   ],
   "source": [
    "def is_prime(num):\n",
    "    count=0\n",
    "    num=int(num)\n",
    "    for i in range(2,int(num**0.5)):\n",
    "        if num%i==0:\n",
    "            count+=1\n",
    "    if count>0:\n",
    "        return False\n",
    "    else:\n",
    "        return True\n",
    "is_prime(17)"
   ]
  },
  {
   "cell_type": "code",
   "execution_count": null,
   "id": "8b046bde",
   "metadata": {},
   "outputs": [],
   "source": []
  }
 ],
 "metadata": {
  "kernelspec": {
   "display_name": "Python 3 (ipykernel)",
   "language": "python",
   "name": "python3"
  },
  "language_info": {
   "codemirror_mode": {
    "name": "ipython",
    "version": 3
   },
   "file_extension": ".py",
   "mimetype": "text/x-python",
   "name": "python",
   "nbconvert_exporter": "python",
   "pygments_lexer": "ipython3",
   "version": "3.11.4"
  }
 },
 "nbformat": 4,
 "nbformat_minor": 5
}
