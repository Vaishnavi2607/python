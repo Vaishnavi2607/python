{
 "cells": [
  {
   "cell_type": "markdown",
   "id": "54b5e19c",
   "metadata": {},
   "source": [
    "1. Reverse a given list in Python\n",
    "aList = [100, 200, 300, 400, 500]\n",
    "output:\n",
    "[500, 400, 300, 200, 100]\n"
   ]
  },
  {
   "cell_type": "code",
   "execution_count": 1,
   "id": "636068a9",
   "metadata": {},
   "outputs": [
    {
     "name": "stdout",
     "output_type": "stream",
     "text": [
      "[500, 400, 300, 200, 100]\n"
     ]
    }
   ],
   "source": [
    "a = [100, 200, 300, 400, 500]\n",
    "a=a[::-1]\n",
    "print(a)"
   ]
  },
  {
   "cell_type": "markdown",
   "id": "98e32f7c",
   "metadata": {},
   "source": [
    "2. take a list 'l1' of even nos between 150 to 250. Print its length.\n",
    "Then create another list 'l2' using 'l1', containing only nos divisible by 4 from 'l1'."
   ]
  },
  {
   "cell_type": "code",
   "execution_count": 2,
   "id": "2f0218b8",
   "metadata": {},
   "outputs": [
    {
     "name": "stdout",
     "output_type": "stream",
     "text": [
      "[150, 152, 154, 156, 158, 160, 162, 164, 166, 168, 170, 172, 174, 176, 178, 180, 182, 184, 186, 188, 190, 192, 194, 196, 198, 200, 202, 204, 206, 208, 210, 212, 214, 216, 218, 220, 222, 224, 226, 228, 230, 232, 234, 236, 238, 240, 242, 244, 246, 248, 250]\n",
      "[152, 156, 160, 164, 168, 172, 176, 180, 184, 188, 192, 196, 200, 204, 208, 212, 216, 220, 224, 228, 232, 236, 240, 244, 248]\n"
     ]
    }
   ],
   "source": [
    "l1=[e for e in range(150,251,2)]\n",
    "l2=[]\n",
    "for e in l1:\n",
    "    if e%4==0:\n",
    "        l2.append(e)\n",
    "print(l1)\n",
    "print(l2)"
   ]
  },
  {
   "cell_type": "markdown",
   "id": "44467f6f",
   "metadata": {},
   "source": [
    "3. Given a Python list of numbers. Turn every item of a list into its square root\n",
    "aList = [1, 4, 9, 16, 25, 36, 49] \n",
    "output:\n",
    "[1, 2, 3, 4, 5, 6, 7]\n"
   ]
  },
  {
   "cell_type": "code",
   "execution_count": 3,
   "id": "1ef64178",
   "metadata": {},
   "outputs": [
    {
     "name": "stdout",
     "output_type": "stream",
     "text": [
      "[1, 4, 9, 16, 25, 36, 49]\n",
      "[1, 2, 3, 4, 5, 6, 7]\n"
     ]
    }
   ],
   "source": [
    "import math\n",
    "l1=[]\n",
    "a=[1,4,9,16,25,36,49]\n",
    "for e in a:\n",
    "    l1.append(int(math.sqrt(e)))\n",
    "\n",
    "print(a)\n",
    "print(l1)"
   ]
  },
  {
   "cell_type": "markdown",
   "id": "f82afbf2",
   "metadata": {},
   "source": [
    "4. Print two lists in the following order\n",
    "list1 = [5, 6,7]\n",
    "list2 = [0, 1]\n",
    "output:\n",
    "50,51,60,61,70,71"
   ]
  },
  {
   "cell_type": "code",
   "execution_count": 4,
   "id": "d2585fb7",
   "metadata": {},
   "outputs": [
    {
     "name": "stdout",
     "output_type": "stream",
     "text": [
      "['50', '51', '60', '61', '70', '71']\n"
     ]
    }
   ],
   "source": [
    "l1=[5,6,7]\n",
    "l2=[0,1]\n",
    "l3=[]\n",
    "for e in l1:\n",
    "    for i in l2:\n",
    "        a=str(e)+str(i)\n",
    "        l3.append(a)\n",
    "print(l3)"
   ]
  },
  {
   "cell_type": "markdown",
   "id": "4ca13a66",
   "metadata": {},
   "source": [
    "5. Given a two Python list. Iterate both lists simultaneously such that list1 should display item in original order and list2 in reverse order. It should work for any two lists.\n",
    "list1 = [10, 20, 30, 40]\n",
    "list2 = [100, 200, 300, 400]\n",
    "output:\n",
    "10 400\n",
    "20 300\n",
    "30 200\n",
    "40 100"
   ]
  },
  {
   "cell_type": "code",
   "execution_count": 5,
   "id": "ff6b3ab3",
   "metadata": {},
   "outputs": [
    {
     "name": "stdout",
     "output_type": "stream",
     "text": [
      "10 100\n",
      "20 200\n",
      "30 300\n",
      "40 400\n"
     ]
    }
   ],
   "source": [
    "l2=[100,200,300,400]\n",
    "l1=[10,20,30,40]\n",
    "for e1,e2 in zip(l1,l2):\n",
    "    print(e1,e2)"
   ]
  },
  {
   "cell_type": "markdown",
   "id": "5db8ea72",
   "metadata": {},
   "source": [
    "6. Remove empty strings from the list of strings\n",
    "list1 = [\"Ashish\", \"\", \"Atharva\", \"Amit\", \"\", \"Revati\"]\n",
    "output:\n",
    "[\"Ashish\", \"Atharva\", \"Amit\", \"Revati\"]\n"
   ]
  },
  {
   "cell_type": "code",
   "execution_count": 6,
   "id": "24dc0167",
   "metadata": {},
   "outputs": [
    {
     "name": "stdout",
     "output_type": "stream",
     "text": [
      "['Ashish', 'Atharva', 'Amit', 'Revati']\n"
     ]
    }
   ],
   "source": [
    "l1 = [\"Ashish\", \"\", \"Atharva\", \"Amit\", \"\", \"Revati\"]\n",
    "for e in l1:\n",
    "    if e=='':\n",
    "        l1.remove(e)\n",
    "print(l1)"
   ]
  },
  {
   "cell_type": "markdown",
   "id": "a60e2b79",
   "metadata": {},
   "source": [
    "7. Add item 7000 after 6000 in the following Python List\n",
    "list1 = [10, 20, [300, 400, [5000, 6000], 500], 30, 40]\n",
    "output:\n",
    "[10, 20, [300, 400, [5000, 6000, 7000], 500], 30, 40]"
   ]
  },
  {
   "cell_type": "code",
   "execution_count": 7,
   "id": "458c6ba0",
   "metadata": {},
   "outputs": [
    {
     "name": "stdout",
     "output_type": "stream",
     "text": [
      "[5000, 6000]\n",
      "[5000, 6000, 7000]\n",
      "[10, 20, [300, 400, [5000, 6000, 7000], 500], 30, 40]\n"
     ]
    }
   ],
   "source": [
    "l1 = [10, 20, [300, 400, [5000, 6000], 500], 30, 40]\n",
    "l2=l1[2][2]\n",
    "print(l2)\n",
    "l2.insert(2,7000)\n",
    "print(l2)\n",
    "l1[2][2]=l2\n",
    "print(l1)"
   ]
  },
  {
   "cell_type": "markdown",
   "id": "813d0e85",
   "metadata": {},
   "source": [
    "8. Given a nested list extend it by adding the sub list [\"h\", \"i\", \"j\"] in such a way that it will look like the following list\n"
   ]
  },
  {
   "cell_type": "code",
   "execution_count": 8,
   "id": "93ccf275",
   "metadata": {},
   "outputs": [
    {
     "name": "stdout",
     "output_type": "stream",
     "text": [
      "['a', 'b', ['c', ['d', 'e', ['f', 'g', 'h', 'i', 'j'], 'k'], 'l'], 'm', 'n']\n"
     ]
    }
   ],
   "source": [
    "list1 = [\"a\", \"b\", [\"c\", [\"d\", \"e\", [\"f\", \"g\"], \"k\"], \"l\"], \"m\", \"n\"]\n",
    "l1=list1[2][1][2]\n",
    "l1.insert(2,'h')\n",
    "l1.insert(3,'i')\n",
    "l1.insert(4,'j')\n",
    "list1[2][1][2]=l1\n",
    "print(list1)"
   ]
  },
  {
   "cell_type": "markdown",
   "id": "bb38dbff",
   "metadata": {},
   "source": [
    "9. Given a Python list, find value 20 in the list, and if it is present, replace it with 200. Only update the first occurrence of a value\n",
    "list1 = [5, 10, 15, 20, 25, 50, 20]\n",
    "output:\n",
    "list1 = [5, 10, 15, 200, 25, 50, 20]\n"
   ]
  },
  {
   "cell_type": "code",
   "execution_count": 9,
   "id": "d25afb76",
   "metadata": {},
   "outputs": [
    {
     "name": "stdout",
     "output_type": "stream",
     "text": [
      "[5, 10, 15, 200, 25, 50, 20]\n"
     ]
    }
   ],
   "source": [
    "l1 = [5, 10, 15, 20, 25, 50, 20]\n",
    "l1[3]=200\n",
    "print(l1)"
   ]
  },
  {
   "cell_type": "markdown",
   "id": "cee36c14",
   "metadata": {},
   "source": [
    "10. Given a Python list, remove all occurrence of 20 from the list\n",
    "list1 = [5, 20, 15, 20, 25, 50, 20]\n",
    "output:\n",
    "[5, 15, 25, 50]"
   ]
  },
  {
   "cell_type": "code",
   "execution_count": 10,
   "id": "ca50bb09",
   "metadata": {},
   "outputs": [
    {
     "name": "stdout",
     "output_type": "stream",
     "text": [
      "[5, 15, 25, 50]\n"
     ]
    }
   ],
   "source": [
    "list1 = [5, 20, 15, 20, 25, 50, 20]\n",
    "for e in list1:\n",
    "    if e==20:\n",
    "        list1.remove(e)\n",
    "print(list1)"
   ]
  },
  {
   "cell_type": "markdown",
   "id": "069e0dcc",
   "metadata": {},
   "source": [
    "11. Take a number as input from user. \n",
    "Print maximum and minimum integer which can be generated using all the digits in the input number\n",
    "Ex. Input 3421   : o/p max: 4321, min 1234\n",
    "Input 7789    : o/p max: 9776   min 6779"
   ]
  },
  {
   "cell_type": "code",
   "execution_count": 11,
   "id": "2babf0d7",
   "metadata": {},
   "outputs": [
    {
     "name": "stdout",
     "output_type": "stream",
     "text": [
      "enter the string seperated by ,1,2,3\n",
      "['1,2,3']\n"
     ]
    }
   ],
   "source": [
    "st=input(\"enter the string seperated by ,\")\n",
    "l1=st.split()\n",
    "l2=[]\n",
    "# l3=[]\n",
    "# print(l1)\n",
    "# for e in l1:\n",
    "#    l2.append(int(e))\n",
    "#     l2=sorted(l2)\n",
    "    \n",
    "\n",
    "# print(l2)\n",
    "# print(max)\n",
    "print(l1)"
   ]
  },
  {
   "cell_type": "code",
   "execution_count": 12,
   "id": "1d45d196",
   "metadata": {},
   "outputs": [
    {
     "name": "stdout",
     "output_type": "stream",
     "text": [
      "1,2,3'\n",
      "',,123\n",
      "321,,'\n"
     ]
    }
   ],
   "source": [
    "a=input()\n",
    "l1=list(a)\n",
    "l2=sorted(l1)\n",
    "\n",
    "max=''.join(l2)\n",
    "l3=sorted(l2,reverse=True)\n",
    "\n",
    "min=''.join(l3)\n",
    "print(max)\n",
    "print(min)\n"
   ]
  },
  {
   "cell_type": "code",
   "execution_count": 13,
   "id": "681564ac",
   "metadata": {},
   "outputs": [
    {
     "name": "stdout",
     "output_type": "stream",
     "text": [
      "Enter a number: 1,2,3\n"
     ]
    },
    {
     "ename": "ValueError",
     "evalue": "invalid literal for int() with base 10: ','",
     "output_type": "error",
     "traceback": [
      "\u001b[1;31m---------------------------------------------------------------------------\u001b[0m",
      "\u001b[1;31mValueError\u001b[0m                                Traceback (most recent call last)",
      "Cell \u001b[1;32mIn[13], line 2\u001b[0m\n\u001b[0;32m      1\u001b[0m num_str \u001b[38;5;241m=\u001b[39m \u001b[38;5;28minput\u001b[39m(\u001b[38;5;124m\"\u001b[39m\u001b[38;5;124mEnter a number: \u001b[39m\u001b[38;5;124m\"\u001b[39m)\n\u001b[1;32m----> 2\u001b[0m num_list \u001b[38;5;241m=\u001b[39m [\u001b[38;5;28mint\u001b[39m(d) \u001b[38;5;28;01mfor\u001b[39;00m d \u001b[38;5;129;01min\u001b[39;00m num_str]\n\u001b[0;32m      3\u001b[0m min_num \u001b[38;5;241m=\u001b[39m \u001b[38;5;28mint\u001b[39m(\u001b[38;5;124m\"\u001b[39m\u001b[38;5;124m\"\u001b[39m\u001b[38;5;241m.\u001b[39mjoin(\u001b[38;5;28mmap\u001b[39m(\u001b[38;5;28mstr\u001b[39m, \u001b[38;5;28msorted\u001b[39m(num_list))))\n\u001b[0;32m      4\u001b[0m max_num \u001b[38;5;241m=\u001b[39m \u001b[38;5;28mint\u001b[39m(\u001b[38;5;124m\"\u001b[39m\u001b[38;5;124m\"\u001b[39m\u001b[38;5;241m.\u001b[39mjoin(\u001b[38;5;28mmap\u001b[39m(\u001b[38;5;28mstr\u001b[39m, \u001b[38;5;28msorted\u001b[39m(num_list, reverse\u001b[38;5;241m=\u001b[39m\u001b[38;5;28;01mTrue\u001b[39;00m))))\n",
      "Cell \u001b[1;32mIn[13], line 2\u001b[0m, in \u001b[0;36m<listcomp>\u001b[1;34m(.0)\u001b[0m\n\u001b[0;32m      1\u001b[0m num_str \u001b[38;5;241m=\u001b[39m \u001b[38;5;28minput\u001b[39m(\u001b[38;5;124m\"\u001b[39m\u001b[38;5;124mEnter a number: \u001b[39m\u001b[38;5;124m\"\u001b[39m)\n\u001b[1;32m----> 2\u001b[0m num_list \u001b[38;5;241m=\u001b[39m [\u001b[38;5;28mint\u001b[39m(d) \u001b[38;5;28;01mfor\u001b[39;00m d \u001b[38;5;129;01min\u001b[39;00m num_str]\n\u001b[0;32m      3\u001b[0m min_num \u001b[38;5;241m=\u001b[39m \u001b[38;5;28mint\u001b[39m(\u001b[38;5;124m\"\u001b[39m\u001b[38;5;124m\"\u001b[39m\u001b[38;5;241m.\u001b[39mjoin(\u001b[38;5;28mmap\u001b[39m(\u001b[38;5;28mstr\u001b[39m, \u001b[38;5;28msorted\u001b[39m(num_list))))\n\u001b[0;32m      4\u001b[0m max_num \u001b[38;5;241m=\u001b[39m \u001b[38;5;28mint\u001b[39m(\u001b[38;5;124m\"\u001b[39m\u001b[38;5;124m\"\u001b[39m\u001b[38;5;241m.\u001b[39mjoin(\u001b[38;5;28mmap\u001b[39m(\u001b[38;5;28mstr\u001b[39m, \u001b[38;5;28msorted\u001b[39m(num_list, reverse\u001b[38;5;241m=\u001b[39m\u001b[38;5;28;01mTrue\u001b[39;00m))))\n",
      "\u001b[1;31mValueError\u001b[0m: invalid literal for int() with base 10: ','"
     ]
    }
   ],
   "source": [
    "num_str = input(\"Enter a number: \")\n",
    "num_list = [int(d) for d in num_str]\n",
    "min_num = int(\"\".join(map(str, sorted(num_list))))\n",
    "max_num = int(\"\".join(map(str, sorted(num_list, reverse=True))))\n",
    "print(\"Minimum integer:\", min_num)\n",
    "print(\"Maximum integer:\", max_num)"
   ]
  },
  {
   "cell_type": "markdown",
   "id": "05061897",
   "metadata": {},
   "source": [
    "12. Take integer from user and print all odd numbers which can be generated using any number of digits from given number\n",
    "Ex. \n",
    "Input: 3421  o/p: 1,3,13,43,23,31,41,21,421,241,341,431,423,243,143,413,1243,1423,4213,4123, 2413,2143, .. etc\n"
   ]
  },
  {
   "cell_type": "code",
   "execution_count": null,
   "id": "78b6ee26",
   "metadata": {},
   "outputs": [],
   "source": []
  },
  {
   "cell_type": "markdown",
   "id": "920b1f52",
   "metadata": {},
   "source": [
    "1. Write a Python program to sum all the items in a list."
   ]
  },
  {
   "cell_type": "code",
   "execution_count": 14,
   "id": "e7c4f3dc",
   "metadata": {},
   "outputs": [
    {
     "name": "stdout",
     "output_type": "stream",
     "text": [
      "224\n"
     ]
    }
   ],
   "source": [
    "list1=[28,37,49,50,60]\n",
    "sum=0\n",
    "for e in list1:\n",
    "    sum=sum+e\n",
    "print(sum)"
   ]
  },
  {
   "cell_type": "markdown",
   "id": "4385f22f",
   "metadata": {},
   "source": [
    "2. Write a Python program to multiply all the items in a list."
   ]
  },
  {
   "cell_type": "code",
   "execution_count": 15,
   "id": "18f18235",
   "metadata": {},
   "outputs": [
    {
     "name": "stdout",
     "output_type": "stream",
     "text": [
      "150\n"
     ]
    }
   ],
   "source": [
    "list1=[5*6*5]\n",
    "mul=1\n",
    "for e in list1:\n",
    "    mul=mul*e\n",
    "print(mul)"
   ]
  },
  {
   "cell_type": "markdown",
   "id": "8dde645d",
   "metadata": {},
   "source": [
    "3. Write a Python program to get the largest number from a list."
   ]
  },
  {
   "cell_type": "code",
   "execution_count": 16,
   "id": "e74e85f7",
   "metadata": {},
   "outputs": [
    {
     "ename": "TypeError",
     "evalue": "'str' object is not callable",
     "output_type": "error",
     "traceback": [
      "\u001b[1;31m---------------------------------------------------------------------------\u001b[0m",
      "\u001b[1;31mTypeError\u001b[0m                                 Traceback (most recent call last)",
      "Cell \u001b[1;32mIn[16], line 2\u001b[0m\n\u001b[0;32m      1\u001b[0m l1\u001b[38;5;241m=\u001b[39m[\u001b[38;5;241m6\u001b[39m,\u001b[38;5;241m7\u001b[39m,\u001b[38;5;241m8\u001b[39m,\u001b[38;5;241m3\u001b[39m]\n\u001b[1;32m----> 2\u001b[0m \u001b[38;5;28mmax\u001b[39m\u001b[38;5;241m=\u001b[39m\u001b[38;5;28mmax\u001b[39m(l1)\n\u001b[0;32m      3\u001b[0m \u001b[38;5;28mprint\u001b[39m(\u001b[38;5;28mmax\u001b[39m)\n",
      "\u001b[1;31mTypeError\u001b[0m: 'str' object is not callable"
     ]
    }
   ],
   "source": [
    "l1=[6,7,8,3]\n",
    "max=max(l1)\n",
    "print(max)"
   ]
  },
  {
   "cell_type": "markdown",
   "id": "11e50ab2",
   "metadata": {},
   "source": [
    "4. Write a Python program to get the smallest number from a list."
   ]
  },
  {
   "cell_type": "code",
   "execution_count": 17,
   "id": "3dc6e028",
   "metadata": {},
   "outputs": [
    {
     "ename": "TypeError",
     "evalue": "'str' object is not callable",
     "output_type": "error",
     "traceback": [
      "\u001b[1;31m---------------------------------------------------------------------------\u001b[0m",
      "\u001b[1;31mTypeError\u001b[0m                                 Traceback (most recent call last)",
      "Cell \u001b[1;32mIn[17], line 2\u001b[0m\n\u001b[0;32m      1\u001b[0m l1\u001b[38;5;241m=\u001b[39m[\u001b[38;5;241m123\u001b[39m,\u001b[38;5;241m234\u001b[39m,\u001b[38;5;241m456\u001b[39m,\u001b[38;5;241m789\u001b[39m]\n\u001b[1;32m----> 2\u001b[0m \u001b[38;5;28mprint\u001b[39m(\u001b[38;5;28mmin\u001b[39m(l1))\n",
      "\u001b[1;31mTypeError\u001b[0m: 'str' object is not callable"
     ]
    }
   ],
   "source": [
    "l1=[123,234,456,789]\n",
    "print(min(l1))"
   ]
  },
  {
   "cell_type": "markdown",
   "id": "7b16a2be",
   "metadata": {},
   "source": [
    "5. Write a Python program to count the number of strings from a given list of strings. The string length is 2 or more and the first and last characters are the same.\n",
    "Sample List : ['abc', 'xyz', 'aba', '1221']\n",
    "Expected Result : 2"
   ]
  },
  {
   "cell_type": "code",
   "execution_count": 18,
   "id": "81f934fe",
   "metadata": {},
   "outputs": [
    {
     "name": "stdout",
     "output_type": "stream",
     "text": [
      "2\n"
     ]
    }
   ],
   "source": [
    "l1=['abc','xyz','aba','1221']\n",
    "count=0\n",
    "for e in l1:\n",
    "    if (len(e)==2) or (e[0]==e[-1]) :\n",
    "        count=count+1\n",
    "print(count)"
   ]
  },
  {
   "cell_type": "markdown",
   "id": "5cf92487",
   "metadata": {},
   "source": [
    "6. Write a Python program to get a list, sorted in increasing order by the last element in each tuple from a given list of non-empty tuples.\n",
    "Sample List : [(2, 5), (1, 2), (4, 4), (2, 3), (2, 1)]\n",
    "Expected Result : [(2, 1), (1, 2), (2, 3), (4, 4), (2, 5)]\n"
   ]
  },
  {
   "cell_type": "code",
   "execution_count": 19,
   "id": "f175d832",
   "metadata": {},
   "outputs": [],
   "source": [
    "l1=[(2, 5), (1, 2), (4, 4), (2, 3), (2, 1)]\n"
   ]
  },
  {
   "cell_type": "markdown",
   "id": "c5c3754d",
   "metadata": {},
   "source": [
    "7. Write a Python program to remove duplicates from a list."
   ]
  },
  {
   "cell_type": "code",
   "execution_count": 20,
   "id": "9a79e487",
   "metadata": {},
   "outputs": [
    {
     "name": "stdout",
     "output_type": "stream",
     "text": [
      "[10, 20, 30]\n"
     ]
    }
   ],
   "source": [
    "l1=[10,10,20,30]\n",
    "l2=[]\n",
    "for e1 in l1:\n",
    "    if e1 not in l2:\n",
    "        l2.append(e1)\n",
    "print(l2)\n",
    "    "
   ]
  },
  {
   "cell_type": "markdown",
   "id": "74e37117",
   "metadata": {},
   "source": [
    "8. Write a Python program to check if a list is empty or not."
   ]
  },
  {
   "cell_type": "code",
   "execution_count": 21,
   "id": "149dee69",
   "metadata": {},
   "outputs": [
    {
     "name": "stdout",
     "output_type": "stream",
     "text": [
      "empty\n"
     ]
    }
   ],
   "source": [
    "l1=[]\n",
    "\n",
    "if  not l1:\n",
    "    print(\"empty\")\n"
   ]
  },
  {
   "cell_type": "code",
   "execution_count": 22,
   "id": "96b849a6",
   "metadata": {},
   "outputs": [
    {
     "name": "stdout",
     "output_type": "stream",
     "text": [
      "empty\n"
     ]
    }
   ],
   "source": [
    "l1=[]\n",
    "if len(l1)==0:\n",
    "    print(\"empty\")"
   ]
  },
  {
   "cell_type": "markdown",
   "id": "02cc4774",
   "metadata": {},
   "source": [
    "9. Write a Python program to clone or copy a list.\n"
   ]
  },
  {
   "cell_type": "code",
   "execution_count": 23,
   "id": "4eb850b6",
   "metadata": {},
   "outputs": [
    {
     "name": "stdout",
     "output_type": "stream",
     "text": [
      "[10, 20, 30, 40]\n"
     ]
    }
   ],
   "source": [
    "l1=[10,20,30,40]\n",
    "l2=l1.copy()\n",
    "print(l2)"
   ]
  },
  {
   "cell_type": "markdown",
   "id": "4d5fbda9",
   "metadata": {},
   "source": [
    "10. Write a Python program to find the list of words that are longer than n from a given list of words."
   ]
  },
  {
   "cell_type": "code",
   "execution_count": 24,
   "id": "0fc04d40",
   "metadata": {},
   "outputs": [
    {
     "name": "stdout",
     "output_type": "stream",
     "text": [
      "['asdaas', 'adnjdd']\n"
     ]
    }
   ],
   "source": [
    "def num(n,l1):\n",
    "    l2=[]\n",
    "    for e in l1:\n",
    "        if len(e)>n:\n",
    "            l2.append(e)\n",
    "    return l2\n",
    "cel=num(5,['asdaas','aaa','adnjdd'])\n",
    "print(cel)\n",
    "\n",
    "        "
   ]
  },
  {
   "cell_type": "markdown",
   "id": "6e680db8",
   "metadata": {},
   "source": [
    "\n",
    "11. Write a Python function that takes two lists and returns True if they have at least one common member."
   ]
  },
  {
   "cell_type": "code",
   "execution_count": 25,
   "id": "17a968d0",
   "metadata": {},
   "outputs": [
    {
     "name": "stdout",
     "output_type": "stream",
     "text": [
      "True\n"
     ]
    }
   ],
   "source": [
    "l1=[120,6,56,25,95]\n",
    "l2=[15,120,35,38]\n",
    "count=0\n",
    "for e1 in l1:\n",
    "    for e2 in l2:\n",
    "        if e1==e2:\n",
    "            count=count+1\n",
    "            \n",
    "if count>=1:\n",
    "    print(\"True\")"
   ]
  },
  {
   "cell_type": "markdown",
   "id": "ef2d60fb",
   "metadata": {},
   "source": [
    "12. Write a Python program to print a specified list after removing the 0th, 4th and 5th elements.\n",
    "Sample List : ['Red', 'Green', 'White', 'Black', 'Pink', 'Yellow']\n",
    "Expected Output : ['Green', 'White', 'Black']"
   ]
  },
  {
   "cell_type": "code",
   "execution_count": 26,
   "id": "e0038f22",
   "metadata": {},
   "outputs": [
    {
     "name": "stdout",
     "output_type": "stream",
     "text": [
      "['Green', 'White', 'Black']\n"
     ]
    }
   ],
   "source": [
    "l1=['Red', 'Green', 'White', 'Black', 'Pink', 'Yellow']\n",
    "l2=l1.copy()\n",
    "for i,e in enumerate(l1):\n",
    "    if (i==0) or (i==4) or (i==5):\n",
    "        l2.remove(e)\n",
    "        \n",
    "# l1.remove(l1[4])\n",
    "# l1.remove(l1[5])\n",
    "print(l2)"
   ]
  },
  {
   "cell_type": "markdown",
   "id": "a397051d",
   "metadata": {},
   "source": [
    "13. Write a Python program to generate a 3*4*6 3D array whose each element is *."
   ]
  },
  {
   "cell_type": "code",
   "execution_count": 27,
   "id": "5ecaaaa6",
   "metadata": {},
   "outputs": [
    {
     "name": "stdout",
     "output_type": "stream",
     "text": [
      "[[['#', '#', '#', '#', '#', '#'], ['#', '#', '#', '#', '#', '#'], ['#', '#', '#', '#', '#', '#'], ['#', '#', '#', '#', '#', '#']], [['#', '#', '#', '#', '#', '#'], ['#', '#', '#', '#', '#', '#'], ['#', '#', '#', '#', '#', '#'], ['#', '#', '#', '#', '#', '#']], [['#', '#', '#', '#', '#', '#'], ['#', '#', '#', '#', '#', '#'], ['#', '#', '#', '#', '#', '#'], ['#', '#', '#', '#', '#', '#']]]\n"
     ]
    }
   ],
   "source": [
    "a=3\n",
    "b=4\n",
    "c=6\n",
    "l1=[]\n",
    "for i in range(a):\n",
    "    l2=[]\n",
    "    for j in range(b):\n",
    "        l3=[]\n",
    "        for k in range(c):\n",
    "            l3.append('#')\n",
    "        l2.append(l3)\n",
    "    l1.append(l2)\n",
    "print(l1)\n",
    "    "
   ]
  },
  {
   "cell_type": "markdown",
   "id": "f55a1e3b",
   "metadata": {},
   "source": [
    "14. Write a Python program to print the numbers of a specified list after removing even numbers from it."
   ]
  },
  {
   "cell_type": "code",
   "execution_count": 28,
   "id": "57a9ad19",
   "metadata": {},
   "outputs": [
    {
     "name": "stdout",
     "output_type": "stream",
     "text": [
      "[67, 55, 77, 99]\n"
     ]
    }
   ],
   "source": [
    "l1=[12,34,56,67,78,55,77,99]\n",
    "l2=l1.copy()\n",
    "for e in l1:\n",
    "    if e%2==0:\n",
    "        l2.remove(e)\n",
    "print(l2)"
   ]
  },
  {
   "cell_type": "markdown",
   "id": "bffaa6af",
   "metadata": {},
   "source": [
    "15. Write a Python program to shuffle and print a specified list."
   ]
  },
  {
   "cell_type": "code",
   "execution_count": 29,
   "id": "34b789e5",
   "metadata": {},
   "outputs": [
    {
     "name": "stdout",
     "output_type": "stream",
     "text": [
      "[100, 300, 45, 89, 67]\n"
     ]
    }
   ],
   "source": [
    "import random\n",
    "l1=[100,300,45,67,89]\n",
    "random.shuffle(l1)\n",
    "print(l1)"
   ]
  },
  {
   "cell_type": "markdown",
   "id": "bb960665",
   "metadata": {},
   "source": [
    "16. Write a Python program to generate and print a list of the first and last 5 elements where the values are square numbers between 1 and 30 (both included).\n",
    "\n"
   ]
  },
  {
   "cell_type": "code",
   "execution_count": 30,
   "id": "a8bc0138",
   "metadata": {},
   "outputs": [
    {
     "name": "stdout",
     "output_type": "stream",
     "text": [
      "[1, 4, 9, 16, 25, 625, 676, 729, 784, 841]\n"
     ]
    }
   ],
   "source": [
    "l1=[e*e for e in range(1,30)]\n",
    "l2=l1[:5]\n",
    "l3=l1[-5:]\n",
    "l4=l2+l3\n",
    "print(l4)"
   ]
  },
  {
   "cell_type": "markdown",
   "id": "1dcdabba",
   "metadata": {},
   "source": [
    "17. Write a Python program to check if each number is prime in a given list of numbers. Return True if all numbers are prime otherwise False.\n",
    "Sample Data:\n",
    "([0, 3, 4, 7, 9]) -> False\n",
    "([3, 5, 7, 13]) -> True\n",
    "([1, 5, 3]) -> False"
   ]
  },
  {
   "cell_type": "markdown",
   "id": "df90ed1d",
   "metadata": {},
   "source": [
    "18. Write a Python program to generate all permutations of a list in Python."
   ]
  },
  {
   "cell_type": "code",
   "execution_count": 33,
   "id": "fa873f66",
   "metadata": {},
   "outputs": [
    {
     "name": "stdout",
     "output_type": "stream",
     "text": [
      "1\n",
      "2\n",
      "6\n",
      "24\n"
     ]
    }
   ],
   "source": [
    "import math \n",
    "l1=[1,2,3,4]\n",
    "for e in l1:\n",
    "    print(math.perm(e))"
   ]
  },
  {
   "cell_type": "code",
   "execution_count": null,
   "id": "9b8569cf",
   "metadata": {},
   "outputs": [],
   "source": []
  },
  {
   "cell_type": "code",
   "execution_count": null,
   "id": "b0de64c2",
   "metadata": {},
   "outputs": [],
   "source": []
  },
  {
   "cell_type": "code",
   "execution_count": null,
   "id": "627bd129",
   "metadata": {},
   "outputs": [],
   "source": []
  },
  {
   "cell_type": "code",
   "execution_count": null,
   "id": "527f613e",
   "metadata": {},
   "outputs": [],
   "source": []
  },
  {
   "cell_type": "code",
   "execution_count": null,
   "id": "3b84c560",
   "metadata": {},
   "outputs": [],
   "source": []
  },
  {
   "cell_type": "code",
   "execution_count": null,
   "id": "d2b932df",
   "metadata": {},
   "outputs": [],
   "source": []
  },
  {
   "cell_type": "code",
   "execution_count": null,
   "id": "496e8521",
   "metadata": {},
   "outputs": [],
   "source": []
  }
 ],
 "metadata": {
  "kernelspec": {
   "display_name": "Python 3 (ipykernel)",
   "language": "python",
   "name": "python3"
  },
  "language_info": {
   "codemirror_mode": {
    "name": "ipython",
    "version": 3
   },
   "file_extension": ".py",
   "mimetype": "text/x-python",
   "name": "python",
   "nbconvert_exporter": "python",
   "pygments_lexer": "ipython3",
   "version": "3.11.4"
  }
 },
 "nbformat": 4,
 "nbformat_minor": 5
}
