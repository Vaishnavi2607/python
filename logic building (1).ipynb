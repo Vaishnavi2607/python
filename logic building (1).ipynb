{
 "cells": [
  {
   "cell_type": "markdown",
   "id": "8fe6484e",
   "metadata": {},
   "source": [
    "Simple Calculator Program"
   ]
  },
  {
   "cell_type": "code",
   "execution_count": 3,
   "id": "6657f144",
   "metadata": {},
   "outputs": [
    {
     "name": "stdout",
     "output_type": "stream",
     "text": [
      "enter the choice3\n",
      "1904\n",
      "enter the choice7\n",
      "exit.....\n"
     ]
    }
   ],
   "source": [
    "def calculator(num1, num2):\n",
    "    while (True):\n",
    "        choice=int(input(\"enter the choice\"))\n",
    "        match choice:\n",
    "            case 1:\n",
    "                print(num1+num2) #addition\n",
    "            case 2:\n",
    "                print(num1-num2) #subtraction\n",
    "            case 3:\n",
    "                print(num1*num2) #multipication\n",
    "            case 4:\n",
    "                print(num1/num2) #division\n",
    "            case 5:\n",
    "                print(num1//num2) #integer division\n",
    "            case 6:\n",
    "                print(num1%num2) #mod\n",
    "            case 7:\n",
    "                print(\"exit.....\")\n",
    "                break\n",
    "            case _:\n",
    "                print(\"invaild\")\n",
    "cal=calculator(56,34)\n",
    "        \n",
    "        "
   ]
  },
  {
   "cell_type": "code",
   "execution_count": 5,
   "id": "e9d517b8",
   "metadata": {},
   "outputs": [
    {
     "name": "stdout",
     "output_type": "stream",
     "text": [
      "enter the choice1\n",
      "16\n",
      "36\n",
      "enter the choice2\n",
      "64\n",
      "216\n",
      "enter the choice3\n",
      "-0.7568024953079282\n",
      "-0.27941549819892586\n",
      "enter the choice4\n",
      "-0.6536436208636119\n",
      "0.960170286650366\n",
      "enter the choice5\n",
      "1.1578212823495777\n",
      "-0.29100619138474915\n",
      "enter the choice6\n",
      "54.598150033144236\n",
      "403.4287934927351\n",
      "enter the choice7\n",
      "24\n",
      "720\n",
      "enter the choice8\n",
      "2.0\n",
      "2.449489742783178\n",
      "enter the choice9\n",
      "1.3862943611198906\n",
      "1.791759469228055\n",
      "enter the choice10\n",
      "2.0\n",
      "2.584962500721156\n",
      "enter the choice11\n",
      "0.6020599913279624\n",
      "0.7781512503836436\n",
      "enter the choice12\n",
      "exit....\n"
     ]
    }
   ],
   "source": [
    "import math\n",
    "def calculator_1(num1,num2):\n",
    "    while (True):\n",
    "        choice=int(input(\"enter the choice\"))\n",
    "        match choice:\n",
    "            case 1:\n",
    "                print(num1**2)\n",
    "                print(num2**2)\n",
    "            case 2:\n",
    "                print(num1**3)\n",
    "                print(num2**3)\n",
    "            case 3:\n",
    "                print(math.sin(num1))\n",
    "                print(math.sin(num2))\n",
    "                \n",
    "            case 4:\n",
    "                print(math.cos(num1))\n",
    "                print(math.cos(num2))\n",
    "            case 5:\n",
    "                print(math.tan(num1))\n",
    "                print(math.tan(num2))\n",
    "                \n",
    "            case 6:\n",
    "                print(math.exp(num1))\n",
    "                print(math.exp(num2))\n",
    "            case 7:\n",
    "                print(math.factorial(num1))\n",
    "                print(math.factorial(num2))\n",
    "            case 8:\n",
    "                print(math.sqrt(num1))\n",
    "                print(math.sqrt(num2))\n",
    "            case 9:\n",
    "                print(math.log(num1))\n",
    "                print(math.log(num2))\n",
    "            case 10:\n",
    "                print(math.log2(num1))\n",
    "                print(math.log2(num2))\n",
    "            case 11:\n",
    "                print(math.log10(num1))\n",
    "                print(math.log10(num2))\n",
    "            case 12:\n",
    "                print(\"exit....\")\n",
    "                break\n",
    "            case _:\n",
    "                print(\"invalid\")\n",
    "cal=calculator_1(4,6)"
   ]
  },
  {
   "cell_type": "markdown",
   "id": "0714822e",
   "metadata": {},
   "source": [
    "WAP to print the odd numbers from 1 to 99. Prints one number per line.\n"
   ]
  },
  {
   "cell_type": "code",
   "execution_count": 9,
   "id": "d597c788",
   "metadata": {},
   "outputs": [
    {
     "name": "stdout",
     "output_type": "stream",
     "text": [
      "1\n",
      "3\n",
      "5\n",
      "7\n",
      "9\n",
      "11\n",
      "13\n",
      "15\n",
      "17\n",
      "19\n",
      "21\n",
      "23\n",
      "25\n",
      "27\n",
      "29\n",
      "31\n",
      "33\n",
      "35\n",
      "37\n",
      "39\n",
      "41\n",
      "43\n",
      "45\n",
      "47\n",
      "49\n",
      "51\n",
      "53\n",
      "55\n",
      "57\n",
      "59\n",
      "61\n",
      "63\n",
      "65\n",
      "67\n",
      "69\n",
      "71\n",
      "73\n",
      "75\n",
      "77\n",
      "79\n",
      "81\n",
      "83\n",
      "85\n",
      "87\n",
      "89\n",
      "91\n",
      "93\n",
      "95\n",
      "97\n",
      "99\n"
     ]
    }
   ],
   "source": [
    "for i in range(1,100,2):\n",
    "    print(i)\n",
    "        \n"
   ]
  },
  {
   "cell_type": "code",
   "execution_count": 2,
   "id": "d6db9b71",
   "metadata": {},
   "outputs": [
    {
     "name": "stdout",
     "output_type": "stream",
     "text": [
      "1\n",
      "3\n",
      "5\n",
      "7\n",
      "9\n",
      "11\n",
      "13\n",
      "15\n",
      "17\n",
      "19\n",
      "21\n",
      "23\n",
      "25\n",
      "27\n",
      "29\n",
      "31\n",
      "33\n",
      "35\n",
      "37\n",
      "39\n",
      "41\n",
      "43\n",
      "45\n",
      "47\n",
      "49\n",
      "51\n",
      "53\n",
      "55\n",
      "57\n",
      "59\n",
      "61\n",
      "63\n",
      "65\n",
      "67\n",
      "69\n",
      "71\n",
      "73\n",
      "75\n",
      "77\n",
      "79\n",
      "81\n",
      "83\n",
      "85\n",
      "87\n",
      "89\n",
      "91\n",
      "93\n",
      "95\n",
      "97\n",
      "99\n",
      "None\n"
     ]
    }
   ],
   "source": [
    "def odd():\n",
    "    for i in range(1,101,2):\n",
    "        print(i)\n",
    "o=odd()\n",
    "print(o)"
   ]
  },
  {
   "cell_type": "markdown",
   "id": "c3669fc9",
   "metadata": {},
   "source": [
    "WAP  to accept a number and check the number is even or not. Prints 1 if the number is even or 0 if the number is odd."
   ]
  },
  {
   "cell_type": "code",
   "execution_count": 11,
   "id": "36c59404",
   "metadata": {},
   "outputs": [
    {
     "name": "stdout",
     "output_type": "stream",
     "text": [
      "0\n"
     ]
    }
   ],
   "source": [
    "def even_odd(num):\n",
    "    if num%2==0:\n",
    "        return 1\n",
    "    elif num%2!=0:\n",
    "        return 0\n",
    "    else:\n",
    "        return False\n",
    "odd= even_odd(5)\n",
    "print(odd)"
   ]
  },
  {
   "cell_type": "markdown",
   "id": "00ef82ee",
   "metadata": {},
   "source": [
    "WAP to print numbers between 1 to 100 which are divisible by 3, 5 and by both"
   ]
  },
  {
   "cell_type": "code",
   "execution_count": 22,
   "id": "645697ef",
   "metadata": {},
   "outputs": [
    {
     "name": "stdout",
     "output_type": "stream",
     "text": [
      "1\n"
     ]
    }
   ],
   "source": [
    "def divisible(num):\n",
    "    for i in range(1,101):\n",
    "        if num%3==0:\n",
    "            return i\n",
    "        elif num%5==0:\n",
    "            return i\n",
    "        elif (num%3==0) & (num%5==0):\n",
    "            return i\n",
    "        else:\n",
    "            return False\n",
    "        i+=1\n",
    "    \n",
    "d1=divisible(55)\n",
    "print(d1) "
   ]
  },
  {
   "cell_type": "code",
   "execution_count": 32,
   "id": "3fccc862",
   "metadata": {},
   "outputs": [
    {
     "name": "stdout",
     "output_type": "stream",
     "text": [
      "[15, 30, 45, 60, 75, 90]\n",
      "[5, 10, 20, 25, 35, 40, 50, 55, 65, 70, 80, 85, 95, 100]\n",
      "[3, 6, 9, 12, 18, 21, 24, 27, 33, 36, 39, 42, 48, 51, 54, 57, 63, 66, 69, 72, 78, 81, 84, 87, 93, 96, 99]\n"
     ]
    }
   ],
   "source": [
    "l1=[]\n",
    "l2=[]\n",
    "l3=[]\n",
    "for i in range(1,101):\n",
    "    if (i%3==0) & (i%5==0):\n",
    "        l1.append(i)\n",
    "#             print(i)\n",
    "    elif i%5==0:\n",
    "        l2.append(i)\n",
    "#             print(i)\n",
    "    elif i%3==0:\n",
    "        l3.append(i)\n",
    "print(l1)\n",
    "print(l2)\n",
    "print(l3)\n",
    "            "
   ]
  },
  {
   "cell_type": "markdown",
   "id": "3800d2b9",
   "metadata": {},
   "source": [
    "WAP that accepts three integers from the user and return true if two or more of them (integers ) have the same rightmost digit. The integers are non-negative\n"
   ]
  },
  {
   "cell_type": "code",
   "execution_count": 8,
   "id": "5ac8160a",
   "metadata": {},
   "outputs": [
    {
     "name": "stdout",
     "output_type": "stream",
     "text": [
      "True\n"
     ]
    }
   ],
   "source": [
    "def right(n1,n2,n3):\n",
    "    n1=n1%10\n",
    "#     print(n1)\n",
    "    n2=n2%10\n",
    "    n3=n3%10\n",
    "    if (n1==n2) | (n2==n3) | (n1==n3) |(n1==n2==n3) :\n",
    "        return True\n",
    "    else:\n",
    "        return False\n",
    "    \n",
    "r1=right(23,43,73)\n",
    "print(r1)"
   ]
  },
  {
   "cell_type": "markdown",
   "id": "bdbdf7cb",
   "metadata": {},
   "source": [
    "\n",
    "   WAP to convert input number of seconds to HH:MM:SS.\n",
    " "
   ]
  },
  {
   "cell_type": "code",
   "execution_count": 35,
   "id": "418348dd",
   "metadata": {},
   "outputs": [
    {
     "name": "stdout",
     "output_type": "stream",
     "text": [
      "enter the seconds56000\n",
      "15.56\n",
      "0\n",
      "15 : 0 : 0\n"
     ]
    }
   ],
   "source": [
    "# seconds=int(input(\"enter the seconds\"))\n",
    "# hour= round((seconds/3600),2)\n",
    "# print(hour)\n",
    "# hour=str(hour)\n",
    "# hour=hour.split('.')\n",
    "# hours=int(hour[0])\n",
    "# minute=int(hour[1])\n",
    "# minute= (minute/60)\n",
    "# minute=str(minute)\n",
    "# minute=minute.split('.')\n",
    "# minutes=int(minute[0])\n",
    "# print(minutes)\n",
    "# sec=round((minutes/60),2)\n",
    "# sec=str(sec)\n",
    "# sec=sec.split('.')\n",
    "# sec=int(sec[0])\n",
    "# print(hours,\":\",minutes,\":\",sec)\n"
   ]
  },
  {
   "cell_type": "code",
   "execution_count": 64,
   "id": "acbff5f6",
   "metadata": {},
   "outputs": [
    {
     "name": "stdout",
     "output_type": "stream",
     "text": [
      "0.016\n",
      "0.96\n",
      "0.96\n"
     ]
    }
   ],
   "source": [
    "seconds=3456\n",
    "hr=round((seconds/3600),4)\n",
    "sec=round((hr%100),4)\n",
    "minute=sec/60\n",
    "print(minute)\n",
    "print(sec)\n",
    "print(hr)\n",
    "# second=hr/10\n",
    "# print(second)"
   ]
  },
  {
   "cell_type": "markdown",
   "id": "f5b2ffc9",
   "metadata": {},
   "source": [
    "WAP to print all leap years between 2000 to 2100. Apply all conditions of checking leap year ( (divisible by 4 and not divisible by 100) OR (divisible by 400))"
   ]
  },
  {
   "cell_type": "code",
   "execution_count": 74,
   "id": "a28be0c5",
   "metadata": {},
   "outputs": [
    {
     "name": "stdout",
     "output_type": "stream",
     "text": [
      "2000\n",
      "2004\n",
      "2008\n",
      "2012\n",
      "2016\n",
      "2020\n",
      "2024\n",
      "2028\n",
      "2032\n",
      "2036\n",
      "2040\n",
      "2044\n",
      "2048\n",
      "2052\n",
      "2056\n",
      "2060\n",
      "2064\n",
      "2068\n",
      "2072\n",
      "2076\n",
      "2080\n",
      "2084\n",
      "2088\n",
      "2092\n",
      "2096\n"
     ]
    }
   ],
   "source": [
    "for year in range(2000,2101):\n",
    "    if ((year%4==0) and (year%100!=0)) or (year%400==0):\n",
    "        print(year)\n",
    "\n",
    "\n",
    "        "
   ]
  },
  {
   "cell_type": "markdown",
   "id": "52285c21",
   "metadata": {},
   "source": [
    "WAP to print calender for a month. Take how many days are there in month and starting day of the month as input"
   ]
  },
  {
   "cell_type": "code",
   "execution_count": 99,
   "id": "1dcdd87a",
   "metadata": {},
   "outputs": [
    {
     "name": "stdout",
     "output_type": "stream",
     "text": [
      "enter the number of days in the month28\n",
      "mon [1, 8, 15, 22]\n",
      "tue [2, 9, 16, 23]\n",
      "wed [3, 10, 17, 24]\n",
      "thu [4, 11, 18, 25]\n",
      "fri [5, 12, 19, 26]\n",
      "sat [6, 13, 20, 27]\n",
      "sun [7, 14, 21, 28]\n"
     ]
    }
   ],
   "source": [
    "num=int(input(\"enter the number of days in the month\"))\n",
    "c=0\n",
    "monday=[]\n",
    "tuesday=[]\n",
    "wednesday=[]\n",
    "thursday=[]\n",
    "friday=[]\n",
    "saturday=[]\n",
    "sunday=[]\n",
    "for i in range(1,num+1,7):\n",
    "    monday.append(i)\n",
    "for i in range(2,num+1,7):\n",
    "    tuesday.append(i)\n",
    "for i in range(3,num+1,7):\n",
    "    wednesday.append(i)\n",
    "for i in range(4,num+1,7):\n",
    "    thursday.append(i)\n",
    "for i in range(5,num+1,7):\n",
    "    friday.append(i)\n",
    "for i in range(6,num+1,7):\n",
    "    saturday.append(i)\n",
    "for i in range(7,num+1,7):\n",
    "    sunday.append(i)\n",
    "    \n",
    "print(\"mon\",monday)\n",
    "print(\"tue\",tuesday)\n",
    "print(\"wed\",wednesday)\n",
    "print(\"thu\",thursday)\n",
    "print(\"fri\",friday)\n",
    "print(\"sat\",saturday)\n",
    "print(\"sun\",sunday)\n"
   ]
  },
  {
   "cell_type": "markdown",
   "id": "7ed6f7e9",
   "metadata": {},
   "source": [
    "Factorial of a number using loop"
   ]
  },
  {
   "cell_type": "code",
   "execution_count": 103,
   "id": "0ee84465",
   "metadata": {},
   "outputs": [
    {
     "name": "stdout",
     "output_type": "stream",
     "text": [
      "enter the number6\n",
      "720\n"
     ]
    }
   ],
   "source": [
    "fact=int(input(\"enter the number\"))\n",
    "c=1\n",
    "for i in range(1,fact+1):\n",
    "    c=c*i\n",
    "    \n",
    "print(c)"
   ]
  },
  {
   "cell_type": "code",
   "execution_count": null,
   "id": "6622beb7",
   "metadata": {},
   "outputs": [],
   "source": []
  }
 ],
 "metadata": {
  "kernelspec": {
   "display_name": "Python 3 (ipykernel)",
   "language": "python",
   "name": "python3"
  },
  "language_info": {
   "codemirror_mode": {
    "name": "ipython",
    "version": 3
   },
   "file_extension": ".py",
   "mimetype": "text/x-python",
   "name": "python",
   "nbconvert_exporter": "python",
   "pygments_lexer": "ipython3",
   "version": "3.11.4"
  }
 },
 "nbformat": 4,
 "nbformat_minor": 5
}
