{
 "cells": [
  {
   "cell_type": "markdown",
   "id": "911f0083",
   "metadata": {},
   "source": [
    "1. Given a string of odd length greater than 7, return a new string made of the middle three characters\n",
    "of a given String\n",
    "\n",
    "Given:\n",
    "str1 = \"RakeshzipPetabb\"\n",
    " Output\n",
    " zip\n",
    "\n",
    "str2 = \"JazzbonAyxx\"\n",
    " Output\n",
    " bon"
   ]
  },
  {
   "cell_type": "code",
   "execution_count": 1,
   "id": "77d8b443",
   "metadata": {},
   "outputs": [
    {
     "name": "stdout",
     "output_type": "stream",
     "text": [
      "zip\n",
      "bon\n"
     ]
    }
   ],
   "source": [
    "l1=[]\n",
    "s1 = \"RakeshzipPetabb\"\n",
    "midd=len(s1)//2\n",
    "\n",
    "a=midd-1\n",
    "b=midd+2\n",
    "\n",
    "print(s1[a:b])\n",
    "\n",
    "s2 = \"JazzbonAyxx\"\n",
    "mid=len(s2)//2\n",
    "c=mid-1\n",
    "d=mid+2\n",
    "print(s2[c:d])\n"
   ]
  },
  {
   "cell_type": "markdown",
   "id": "07ec177f",
   "metadata": {},
   "source": [
    "2. Given two strings, s1 and s2, create a new string by appending s2 in the middle of s1\n",
    "\n",
    "Given:\n",
    "s1 = \"Ault\"\n",
    "s2 = \"Kelly\"\n",
    "\n",
    "Expected Output:\n",
    "AuKellylt"
   ]
  },
  {
   "cell_type": "code",
   "execution_count": 2,
   "id": "e1ae4f00",
   "metadata": {},
   "outputs": [
    {
     "name": "stdout",
     "output_type": "stream",
     "text": [
      "saKevinm\n"
     ]
    }
   ],
   "source": [
    "s1 = \"sam\" \n",
    "s2 = \"Kevin\"\n",
    "\n",
    "a=s1[0:2]\n",
    "b=s1[2:4]\n",
    "\n",
    "print(a+s2+b)\n"
   ]
  },
  {
   "cell_type": "markdown",
   "id": "60737a35",
   "metadata": {},
   "source": [
    "3. two strings, s1, and s2 return a new string made of the first, middle, and last characters each input\n",
    "string\n",
    "\n",
    "Given:\n",
    "s1 = \"America\"\n",
    "s2 = \"Japan\"\n",
    "Expected Output:\n",
    "AJrpan"
   ]
  },
  {
   "cell_type": "code",
   "execution_count": 3,
   "id": "db8b3f96",
   "metadata": {},
   "outputs": [
    {
     "name": "stdout",
     "output_type": "stream",
     "text": [
      "AJrpan\n"
     ]
    }
   ],
   "source": [
    "s1 = \"America\"\n",
    "s2 = \"Japan\"\n",
    "\n",
    "d=s2[len(s2)//2::]\n",
    "a=s1[:1:]\n",
    "c=s1[3:4]\n",
    "b=s2[0:1:]\n",
    "\n",
    "print(a+b+c+d)"
   ]
  },
  {
   "cell_type": "markdown",
   "id": "2028d6ab",
   "metadata": {},
   "source": [
    "4. Given an input string with the combination of the lower and upper case arrange characters in such a\n",
    "way that all lowercase letters should come first"
   ]
  },
  {
   "cell_type": "code",
   "execution_count": 1,
   "id": "d186a510",
   "metadata": {},
   "outputs": [
    {
     "name": "stdout",
     "output_type": "stream",
     "text": [
      "Enter the stringVaishnaVi Chakkarwar\n",
      "vaishnavi chakkarwar\n"
     ]
    }
   ],
   "source": [
    "s1 = input(\"Enter the string\")\n",
    "s1.split(' ')\n",
    "s2=s1.lower()\n",
    "print(s2)\n"
   ]
  },
  {
   "cell_type": "markdown",
   "id": "1d779413",
   "metadata": {},
   "source": [
    "6. Find all occurrences of “USA” from right to left in a given string ignoring the case. also display the\n",
    "starting position\n",
    "Given:\n",
    "str1 = \"Welcome to USA. usa awesome, isn't it?\n",
    "Expected answer : 16, 11"
   ]
  },
  {
   "cell_type": "code",
   "execution_count": 2,
   "id": "194621db",
   "metadata": {},
   "outputs": [
    {
     "name": "stdout",
     "output_type": "stream",
     "text": [
      "11\n",
      "11\n"
     ]
    }
   ],
   "source": [
    "str1 = \"Welcome to USA. usa awesome, isn't it?\"\n",
    "\n",
    "x = str1.find(\"USA\")\n",
    "y = str1.rfind(\"USA\")\n",
    "\n",
    "print(x)\n",
    "print(y)"
   ]
  },
  {
   "cell_type": "markdown",
   "id": "5561a344",
   "metadata": {},
   "source": [
    "7. Find all overlapping occurrences of given substring in given string\n",
    "Ex.\n",
    "String = 0111\n",
    "Substring = 11\n",
    "Expected answer : 2\n",
    "String : ANANAAAANNN\n",
    "Substring: ANA\n",
    "Expected answer : 2\n",
    "String : ANANAAAANNN\n",
    "Substring: AA\n",
    "Expected answer : 3"
   ]
  },
  {
   "cell_type": "code",
   "execution_count": 3,
   "id": "4bca1090",
   "metadata": {},
   "outputs": [
    {
     "name": "stdout",
     "output_type": "stream",
     "text": [
      "3\n"
     ]
    }
   ],
   "source": [
    "string ='0111'\n",
    "count=0\n",
    "for char in string:\n",
    "    if char =='1':\n",
    "        count=count+1\n",
    "        \n",
    "print(count)"
   ]
  },
  {
   "cell_type": "markdown",
   "id": "91ddf4f4",
   "metadata": {},
   "source": [
    "9. Find all mobile number mentioned in given paragraph of text\n",
    "Mobile number is always a 10 digit number no spaces no special characters\n",
    "Ex. Input= “this is a good number 9089786756 and 8900000000 is a desired number”\n",
    "Expected output: 9089786756 , 8900000000"
   ]
  },
  {
   "cell_type": "code",
   "execution_count": 4,
   "id": "77486eca",
   "metadata": {},
   "outputs": [
    {
     "name": "stdout",
     "output_type": "stream",
     "text": [
      "['this', 'is', 'a', 'good', 'number', '9089786756', 'and', '8900000000', 'is', 'a', 'desired', 'number']\n",
      "9089786756\n",
      "8900000000\n"
     ]
    }
   ],
   "source": [
    "s1= 'this is a good number 9089786756 and 8900000000 is a desired number'\n",
    "\n",
    "x=s1.split(' ')\n",
    "print(x)\n",
    "# len(x[0])\n",
    "for i,e in enumerate(x):\n",
    "    if (len(x[i])==10):\n",
    "        print(x[i])\n",
    "\n"
   ]
  },
  {
   "cell_type": "markdown",
   "id": "44270709",
   "metadata": {},
   "source": [
    "10. Count occurrence of spaces, and special characters in given string\n",
    "Ex.\n",
    "Input: Fgh^f #89\n",
    "Expected output :\n",
    "Spaces: 1\n",
    "Special characters: 2"
   ]
  },
  {
   "cell_type": "code",
   "execution_count": 5,
   "id": "956b0ec5",
   "metadata": {},
   "outputs": [
    {
     "name": "stdout",
     "output_type": "stream",
     "text": [
      "1\n",
      "2\n"
     ]
    }
   ],
   "source": [
    "s1='Fgh^f #89'\n",
    "c1=0\n",
    "c2=0\n",
    "for char in s1:\n",
    "    if (char==' '):\n",
    "        c1=c1+1\n",
    "#        print(c1)\n",
    "    if (char=='^')or(char=='#'):\n",
    "        c2=c2+1\n",
    "        print(c2)\n",
    "        "
   ]
  },
  {
   "cell_type": "code",
   "execution_count": 6,
   "id": "3fbf9130",
   "metadata": {},
   "outputs": [
    {
     "ename": "SyntaxError",
     "evalue": "invalid character '“' (U+201C) (86030451.py, line 5)",
     "output_type": "error",
     "traceback": [
      "\u001b[1;36m  Cell \u001b[1;32mIn[6], line 5\u001b[1;36m\u001b[0m\n\u001b[1;33m    Input : “I am at CDAC. What about you? I am surprised by current weather!”\u001b[0m\n\u001b[1;37m            ^\u001b[0m\n\u001b[1;31mSyntaxError\u001b[0m\u001b[1;31m:\u001b[0m invalid character '“' (U+201C)\n"
     ]
    }
   ],
   "source": [
    "11. Given a paragraph count number of words, sentences. Every sentence ends with either . or ? or !\n",
    "Print Count of how many normal sentences ending with . , how many interrogative sentences ( ending\n",
    "with ?) and how many exclamatory sentences ( ending with !).\n",
    "Ex.\n",
    "Input : “I am at CDAC. What about you? I am surprised by current weather!”\n",
    "Normal sentence : 1\n",
    "Interrogative: 1\n",
    "Exclamatory : 1"
   ]
  },
  {
   "cell_type": "code",
   "execution_count": 7,
   "id": "dce808c3",
   "metadata": {},
   "outputs": [
    {
     "name": "stdout",
     "output_type": "stream",
     "text": [
      "1\n",
      "1\n"
     ]
    }
   ],
   "source": [
    "s1='I am at CDAC. What about you?'\n",
    "c1=c2=c3=0\n",
    "for char in s1:\n",
    "    if(char=='.'):\n",
    "        c1+=1\n",
    "        print(c1)\n",
    "    if(char=='?'):\n",
    "        c2+=1\n",
    "        print(c2)\n",
    "    if(char=='!'):\n",
    "        c3+=1\n",
    "        print(c3)"
   ]
  },
  {
   "cell_type": "markdown",
   "id": "52e41e97",
   "metadata": {},
   "source": [
    "12. You are given a string S and width w.\n",
    "Your task is to wrap the string into a paragraph of width w\n",
    "Example .\n",
    "String : “ABCDEFGHIJKLIMNOQRSTUVWXYZ”\n",
    "Width: 4\n",
    "Output:\n",
    "ABCD\n",
    "EFGH\n",
    "IJKL\n",
    "IMNO\n",
    "QRST\n",
    "UVWX"
   ]
  },
  {
   "cell_type": "code",
   "execution_count": 12,
   "id": "210473aa",
   "metadata": {},
   "outputs": [
    {
     "name": "stdout",
     "output_type": "stream",
     "text": [
      "AEIIQUY\n"
     ]
    }
   ],
   "source": [
    "s1=\"ABCDEFGHIJKLIMNOQRSTUVWXYZ\"\n",
    "s2=s1[0::4]\n",
    "print(s2)\n"
   ]
  },
  {
   "cell_type": "code",
   "execution_count": null,
   "id": "6eaf08b3",
   "metadata": {},
   "outputs": [],
   "source": []
  }
 ],
 "metadata": {
  "kernelspec": {
   "display_name": "Python 3 (ipykernel)",
   "language": "python",
   "name": "python3"
  },
  "language_info": {
   "codemirror_mode": {
    "name": "ipython",
    "version": 3
   },
   "file_extension": ".py",
   "mimetype": "text/x-python",
   "name": "python",
   "nbconvert_exporter": "python",
   "pygments_lexer": "ipython3",
   "version": "3.11.4"
  }
 },
 "nbformat": 4,
 "nbformat_minor": 5
}
