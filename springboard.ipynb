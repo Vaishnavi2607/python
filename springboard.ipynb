{
 "cells": [
  {
   "cell_type": "markdown",
   "id": "336b748b",
   "metadata": {},
   "source": [
    "Given a list of integer values. Write a python program to check whether it contains same number in adjacent position. Display the count of such adjacent occurrences\n",
    "\n",
    "Sample Input\n",
    "\n",
    "Expected Output\n",
    "\n",
    "[1,1,5,100,-20,-20,6,0,0]\n",
    "\n",
    "3\n",
    "\n",
    "[10,20,30,40,30,20]\n",
    "\n",
    "0\n",
    "\n",
    "[1,2,2,3,4,4,4,10]\n",
    "\n",
    "3\n",
    "\n"
   ]
  },
  {
   "cell_type": "code",
   "execution_count": 14,
   "id": "02e93e28",
   "metadata": {},
   "outputs": [
    {
     "name": "stdout",
     "output_type": "stream",
     "text": [
      "3\n"
     ]
    }
   ],
   "source": [
    "def get_count(num_list):\n",
    "    count=0\n",
    "    for index in range(0,len(num_list)-1):\n",
    "        if num_list[index]==num_list[index+1]:\n",
    "            count=count+1\n",
    "\n",
    "    return count\n",
    "\n",
    "#provide different values in list and test your program\n",
    "num_list=[1,2,2,3,4,4,4,10]\n",
    "print(get_count(num_list))"
   ]
  },
  {
   "cell_type": "markdown",
   "id": "eeea7c14",
   "metadata": {},
   "source": [
    "Write a python program to generate the ticket numbers for specified number of passengers traveling in a flight as per the details mentioned below:\n",
    "The ticket number should be generated as airline:src:dest:number\n",
    "where\n",
    "\n",
    "Consider AI as the value for airline\n",
    "src and dest should be the first three characters of the source and destination cities.\n",
    "number should be auto-generated starting from 101\n",
    "The program should return the list of ticket numbers of last five passengers.\n",
    "Note: If passenger count is less than 5, return the list of all generated ticket numbers."
   ]
  },
  {
   "cell_type": "code",
   "execution_count": 19,
   "id": "d50badf8",
   "metadata": {},
   "outputs": [
    {
     "name": "stdout",
     "output_type": "stream",
     "text": [
      "['b', 'a', 'n']\n",
      "['AI', ['b', 'a', 'n']]\n"
     ]
    }
   ],
   "source": [
    "airline='AI'\n",
    "source=list(\"bangalore\")\n",
    "\n",
    "print(source)\n",
    "destination=\"london\"\n",
    "passengers=7\n",
    "l1=[]\n",
    "l1.append(airline)\n",
    "l1.append(source)\n",
    "print(l1)"
   ]
  },
  {
   "cell_type": "code",
   "execution_count": 2,
   "id": "1f1503be",
   "metadata": {},
   "outputs": [
    {
     "name": "stdout",
     "output_type": "stream",
     "text": [
      "enter the airlineAi\n",
      "enter the sourcebanglore\n",
      "enter the destinationlondon\n",
      "enter the airlineAI\n",
      "enter the sourcebanglore\n",
      "enter the destinationlondon\n",
      "['Ai', 'ban', 'lon', 101, 'AI', 'ban', 'lon', 102]\n"
     ]
    }
   ],
   "source": [
    "passenger=2\n",
    "l1=[]\n",
    "l2=[]\n",
    "for i in range(101,101+passenger):\n",
    "    airline=input(\"enter the airline\")\n",
    "    source=input(\"enter the source\")\n",
    "    destination =input(\"enter the destination\")\n",
    "    s=source[0:3]\n",
    "    d=destination[0:3]\n",
    "#     a=print(airline,s,d,i,sep=':')\n",
    "    l1.append(airline)\n",
    "    l1.append(s)\n",
    "    l1.append(d)\n",
    "    l1.append(i)\n",
    "    \n",
    "    l2=':'.join(airline)\n",
    "\n",
    "print(l1)    "
   ]
  },
  {
   "cell_type": "code",
   "execution_count": 4,
   "id": "7d8632e6",
   "metadata": {},
   "outputs": [
    {
     "name": "stdout",
     "output_type": "stream",
     "text": [
      "enter the airlineAI \n",
      "enter the sourceBanglore\n",
      "enter the destinationLondon\n",
      "['AI :Ban:Lon:101', 'AI :Ban:Lon:102']\n"
     ]
    }
   ],
   "source": [
    "airline=input(\"enter the airline\")\n",
    "source=input(\"enter the source\")\n",
    "destination =input(\"enter the destination\")\n",
    "passenger=2\n",
    "s=source[0:3]\n",
    "d=destination[0:3]\n",
    "l1=[]\n",
    "for i in range(101,101+passenger):\n",
    "    a=airline+':'+s+':'+d+':'+str(i)\n",
    "    l1.append(a)\n",
    "print(l1)\n",
    "    "
   ]
  },
  {
   "cell_type": "code",
   "execution_count": 15,
   "id": "5c792897",
   "metadata": {},
   "outputs": [
    {
     "name": "stdout",
     "output_type": "stream",
     "text": [
      "['BA:Aus:Fra:106', 'BA:Aus:Fra:107', 'BA:Aus:Fra:108', 'BA:Aus:Fra:109', 'BA:Aus:Fra:110']\n"
     ]
    }
   ],
   "source": [
    "def generate_ticket(airline,source,destination,no_of_passengers):\n",
    "    ticket_number_list=[]\n",
    "    #Write your logic here\n",
    "    src=source[0:3]\n",
    "    dest=destination[0:3]\n",
    "    for i in range(101,101+no_of_passengers):\n",
    "        ans=airline+':'+src+':'+dest+':'+str(i)\n",
    "        ticket_number_list.append(ans)\n",
    "        if no_of_passengers>5:\n",
    "            ticket_number_list=ticket_number_list[-5:]\n",
    "        \n",
    "    \n",
    "\n",
    "    #Use the below return statement wherever applicable\n",
    "    return ticket_number_list\n",
    "\n",
    "#Provide different values for airline,source,destination,no_of_passengers and test your program\n",
    "print(generate_ticket(\"BA\",\"Australia\",\"France\",10))"
   ]
  },
  {
   "cell_type": "markdown",
   "id": "926ac712",
   "metadata": {},
   "source": [
    "Write a python program which displays the count of the names that matches a given pattern from a list of names provided.\n",
    "\n",
    "Consider the pattern characters to be:\n",
    "\n",
    "1. \"_ at\" where \"_\" can be one occurrence of any character\n",
    "\n",
    "2. \"%at%\" where \"%\" can have zero or any number of occurrences of a character\n",
    "\n",
    "Sample Input\n",
    "\n",
    "Expected Output\n",
    "\n",
    "[Hat, Cat, Rabbit, Matter]\n",
    "\n",
    "_at -> 2\n",
    "%at% -> 3\n",
    "\n"
   ]
  },
  {
   "cell_type": "code",
   "execution_count": 38,
   "id": "6826e42f",
   "metadata": {},
   "outputs": [
    {
     "name": "stdout",
     "output_type": "stream",
     "text": [
      "_at ->  1\n",
      "_at ->  2\n"
     ]
    }
   ],
   "source": [
    "def count_names(name_list):\n",
    "    count1=0\n",
    "    count2=0\n",
    "    for e in name_list:\n",
    "        if e.endswith('at'):\n",
    "            count1=count1+1\n",
    "            print(\"_at -> \",count1)\n",
    "#         if e.count(\"at\"):\n",
    "#             count2=count2+1\n",
    "#             print(\"%at% -> \",count2)\n",
    "        \n",
    "        \n",
    "\n",
    "    \n",
    "    #start writing your code here\n",
    "    #Populate the variables: count1 and count2\n",
    "\n",
    "    # Use the below given print statements to display the output\n",
    "    # Also, do not modify them for verification to work\n",
    "    #print(\"_at -> \",count1)\n",
    "    #print(\"%at% -> \",count2)\n",
    "\n",
    "\n",
    "#Provide different names in the list and test your program\n",
    "name_list=[\"Hat\",\"Cat\"]\n",
    "count_names(name_list)"
   ]
  },
  {
   "cell_type": "code",
   "execution_count": null,
   "id": "27c559e4",
   "metadata": {},
   "outputs": [],
   "source": []
  },
  {
   "cell_type": "code",
   "execution_count": null,
   "id": "0537319a",
   "metadata": {},
   "outputs": [],
   "source": [
    "l1=['Hat', 'Cat', 'Rabbit', 'Matter']\n",
    "count1=0\n",
    "count2=0\n",
    "for e in l1:\n",
    "    if e.endswith('at'):\n",
    "        count1=count1+1\n",
    "    if e.count(\"at\"):\n",
    "        count2=count2+1\n",
    "print(\"_at -> \",count1)\n",
    "print(\"%at% -> \",count2)"
   ]
  },
  {
   "cell_type": "markdown",
   "id": "36efb283",
   "metadata": {},
   "source": [
    "Write a Python program to generate the next 15 leap years starting from a given year. Populate the leap years into a list and display the list. \n",
    " "
   ]
  },
  {
   "cell_type": "code",
   "execution_count": 41,
   "id": "75689213",
   "metadata": {},
   "outputs": [
    {
     "name": "stdout",
     "output_type": "stream",
     "text": [
      "[2000, 2004, 2008, 2012, 2016, 2020, 2024, 2028, 2032, 2036, 2040, 2044, 2048, 2052, 2056]\n"
     ]
    }
   ],
   "source": [
    "l1=[]\n",
    "count=0\n",
    "year=2000\n",
    "while count<15:\n",
    "    if (year%4==0) and (year%100!=0 or year%400==0):\n",
    "        l1.append(year)\n",
    "        count=count+1\n",
    "    year=year+1\n",
    "print(l1)\n"
   ]
  },
  {
   "cell_type": "code",
   "execution_count": 43,
   "id": "0d48d6a9",
   "metadata": {},
   "outputs": [
    {
     "name": "stdout",
     "output_type": "stream",
     "text": [
      "[2000, 2004, 2008, 2012, 2016, 2020, 2024, 2028, 2032, 2036, 2040, 2044, 2048, 2052, 2056]\n"
     ]
    }
   ],
   "source": [
    "def find_leap_years(given_year):\n",
    "    list_of_leap_years=[]\n",
    "    count=0\n",
    "    while count<15:\n",
    "        if (given_year%4==0) and (given_year%100!=0 or given_year%400==0):\n",
    "            list_of_leap_years.append(given_year)\n",
    "            count=count+1\n",
    "        given_year=given_year+1\n",
    "\n",
    "    # Write your logic here\n",
    "\n",
    "    return list_of_leap_years\n",
    "\n",
    "list_of_leap_years=find_leap_years(2000)\n",
    "print(list_of_leap_years)"
   ]
  },
  {
   "cell_type": "code",
   "execution_count": null,
   "id": "482faec1",
   "metadata": {},
   "outputs": [],
   "source": []
  }
 ],
 "metadata": {
  "kernelspec": {
   "display_name": "Python 3 (ipykernel)",
   "language": "python",
   "name": "python3"
  },
  "language_info": {
   "codemirror_mode": {
    "name": "ipython",
    "version": 3
   },
   "file_extension": ".py",
   "mimetype": "text/x-python",
   "name": "python",
   "nbconvert_exporter": "python",
   "pygments_lexer": "ipython3",
   "version": "3.11.4"
  }
 },
 "nbformat": 4,
 "nbformat_minor": 5
}
