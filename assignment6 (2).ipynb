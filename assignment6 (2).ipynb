{
 "cells": [
  {
   "cell_type": "markdown",
   "id": "0eb3a123",
   "metadata": {},
   "source": [
    "# set"
   ]
  },
  {
   "cell_type": "markdown",
   "id": "0223277b",
   "metadata": {},
   "source": [
    "1. Add a list of elements to a given set\n",
    "Given:\n",
    "sampleSet = {\"Yellow\", \"Orange\", \"Black\"}\n",
    "sampleList = [\"Blue\", \"Green\", \"Red\",”Yellow”,”orange”]                                 "
   ]
  },
  {
   "cell_type": "code",
   "execution_count": 1,
   "id": "edd7bafe",
   "metadata": {},
   "outputs": [
    {
     "name": "stdout",
     "output_type": "stream",
     "text": [
      "{'black', 'green', 'yellow', 'blue', 'orange', 'red'}\n"
     ]
    }
   ],
   "source": [
    "sample={\"yellow\", \"orange\", \"black\"}\n",
    "list1=[\"blue\", \"green\", \"red\", \"yellow\", \"orange\"]\n",
    "for e in list1:\n",
    "    sample.add(e)\n",
    "print(sample)"
   ]
  },
  {
   "cell_type": "markdown",
   "id": "3f0391ca",
   "metadata": {},
   "source": [
    "\n",
    "2. display common elements from the given set\n",
    "set1 = {10, 20, 30, 40, 50}\n",
    "set2 = {30, 40, 50, 60, 70}"
   ]
  },
  {
   "cell_type": "code",
   "execution_count": 2,
   "id": "1c5ad065",
   "metadata": {},
   "outputs": [
    {
     "data": {
      "text/plain": [
       "{30, 40, 50}"
      ]
     },
     "execution_count": 2,
     "metadata": {},
     "output_type": "execute_result"
    }
   ],
   "source": [
    "set1 = {10, 20, 30, 40, 50}\n",
    "set2 = {30, 40, 50, 60, 70}\n",
    "set1&set2"
   ]
  },
  {
   "cell_type": "markdown",
   "id": "6640ce81",
   "metadata": {},
   "source": [
    "3. Generate a new set with all items from both sets by removing numbers which are in both sets.\n",
    "set1 = {10, 20, 30, 40, 50,25}\n",
    "set2 = {30, 40, 50, 60, 70,100}\n",
    "o/p : order is not important\n",
    "{70, 10, 20, 60,25,100}"
   ]
  },
  {
   "cell_type": "code",
   "execution_count": 3,
   "id": "b3b61310",
   "metadata": {},
   "outputs": [
    {
     "data": {
      "text/plain": [
       "{10, 20, 25, 60, 70, 100}"
      ]
     },
     "execution_count": 3,
     "metadata": {},
     "output_type": "execute_result"
    }
   ],
   "source": [
    "set1 = {10, 20, 30, 40, 50,25} \n",
    "set2 = {30, 40, 50, 60, 70,100}\n",
    "(set1|set2)-(set1&set2)"
   ]
  },
  {
   "cell_type": "markdown",
   "id": "79f0e239",
   "metadata": {},
   "source": [
    "4. set of all elements in either A or B, but not both\n",
    "set1 = {10, 20, 30, 40, 50}\n",
    "set2 = {30, 40, 50, 60, 70}\n",
    "Expected output:\n",
    "{20, 70, 10, 60}"
   ]
  },
  {
   "cell_type": "code",
   "execution_count": 4,
   "id": "b5abe7e9",
   "metadata": {},
   "outputs": [
    {
     "data": {
      "text/plain": [
       "{10, 20, 60, 70}"
      ]
     },
     "execution_count": 4,
     "metadata": {},
     "output_type": "execute_result"
    }
   ],
   "source": [
    "set1 = {10, 20, 30, 40, 50}\n",
    "set2 = {30, 40, 50, 60, 70}\n",
    "(set1|set2)-(set1&set2)"
   ]
  },
  {
   "cell_type": "markdown",
   "id": "3e218305",
   "metadata": {},
   "source": [
    "5. Update set1 by adding items from set2, except common items\n",
    "set1 = {10, 20, 30, 40, 50}\n",
    "set2 = {30, 40, 50, 60, 70}\n",
    "Expected output:\n",
    "{70, 10, 20, 60}"
   ]
  },
  {
   "cell_type": "code",
   "execution_count": 5,
   "id": "138fecfa",
   "metadata": {},
   "outputs": [
    {
     "data": {
      "text/plain": [
       "{10, 20, 60, 70}"
      ]
     },
     "execution_count": 5,
     "metadata": {},
     "output_type": "execute_result"
    }
   ],
   "source": [
    "set1 = {10, 20, 30, 40, 50}\n",
    "set2 = {30, 40, 50, 60, 70}\n",
    "(set1|set2)-(set1&set2)"
   ]
  },
  {
   "cell_type": "markdown",
   "id": "54a0f621",
   "metadata": {},
   "source": [
    "6. Take a sentence as input from user. Every word is seperated by space. Print all unique words from the sentence."
   ]
  },
  {
   "cell_type": "code",
   "execution_count": 6,
   "id": "0114da5c",
   "metadata": {},
   "outputs": [
    {
     "name": "stdout",
     "output_type": "stream",
     "text": [
      "Enter the stringhi vaishnavi\n",
      "{'vaishnavi', 'hi'}\n"
     ]
    }
   ],
   "source": [
    "a=input(\"Enter the string\")\n",
    "s1=set(a.split(\" \"))\n",
    "print(s1)"
   ]
  },
  {
   "cell_type": "code",
   "execution_count": 7,
   "id": "91baebed",
   "metadata": {},
   "outputs": [
    {
     "name": "stdout",
     "output_type": "stream",
     "text": [
      "Enter the stringhi vaishnavi\n",
      "{'n', 'h', 's', ' ', 'v', 'a', 'i'}\n"
     ]
    }
   ],
   "source": [
    "a=input(\"Enter the string\")\n",
    "s1=set(a)\n",
    "print(s1)"
   ]
  },
  {
   "cell_type": "markdown",
   "id": "5e335e5d",
   "metadata": {},
   "source": [
    "# tuple"
   ]
  },
  {
   "cell_type": "markdown",
   "id": "6a962cd8",
   "metadata": {},
   "source": [
    "1. Reverse the following tuple\n",
    "aTuple = (10, 20, 30, 40, 50,60)\n",
    "Expected output:\n",
    "(60,50, 40, 30, 20, 10)"
   ]
  },
  {
   "cell_type": "code",
   "execution_count": 8,
   "id": "eff24de7",
   "metadata": {},
   "outputs": [
    {
     "data": {
      "text/plain": [
       "(60, 50, 40, 30, 20, 10)"
      ]
     },
     "execution_count": 8,
     "metadata": {},
     "output_type": "execute_result"
    }
   ],
   "source": [
    "Tuple = (10, 20, 30, 40, 50,60)\n",
    "Tuple[::-1]"
   ]
  },
  {
   "cell_type": "markdown",
   "id": "1d6c7577",
   "metadata": {},
   "source": [
    "2. display value 20 from the following tuple\n",
    "aTuple = (\"Orange\", [10, 20, 30], (5, 15, 25))\n"
   ]
  },
  {
   "cell_type": "code",
   "execution_count": 9,
   "id": "6e11319c",
   "metadata": {},
   "outputs": [
    {
     "data": {
      "text/plain": [
       "20"
      ]
     },
     "execution_count": 9,
     "metadata": {},
     "output_type": "execute_result"
    }
   ],
   "source": [
    "Tuple = (\"Orange\", [10, 20, 30], (5, 15, 25))\n",
    "Tuple[1][1]\n"
   ]
  },
  {
   "cell_type": "markdown",
   "id": "44c8112f",
   "metadata": {},
   "source": [
    "3. Unpack the following tuple into 4 variables\n",
    "aTuple = (10, 20, 30, 40)\n"
   ]
  },
  {
   "cell_type": "code",
   "execution_count": 10,
   "id": "f773fdf5",
   "metadata": {},
   "outputs": [
    {
     "name": "stdout",
     "output_type": "stream",
     "text": [
      "10 20 30 40\n"
     ]
    }
   ],
   "source": [
    "Tuple = (10, 20, 30, 40)\n",
    "a,b,c,d=(10,20,30,40)\n",
    "print(a,b,c,d)"
   ]
  },
  {
   "cell_type": "markdown",
   "id": "5a1d65a8",
   "metadata": {},
   "source": [
    "4. Swap the following two tuples\n",
    "tuple1 = (11, 22)\n",
    "tuple2 = (99, 88)\n",
    "Expected output:\n",
    "tuple1 = (99, 88)\n",
    "tuple2 = (11, 22)"
   ]
  },
  {
   "cell_type": "code",
   "execution_count": 11,
   "id": "a537f88f",
   "metadata": {},
   "outputs": [
    {
     "name": "stdout",
     "output_type": "stream",
     "text": [
      "(99, 88)\n",
      "(11, 22)\n"
     ]
    }
   ],
   "source": [
    "tuple1= (11, 22)\n",
    "tuple2 = (99, 88) \n",
    "tuple1,tuple2=tuple2,tuple1\n",
    "print(tuple1)\n",
    "print(tuple2)\n"
   ]
  },
  {
   "cell_type": "markdown",
   "id": "4af76894",
   "metadata": {},
   "source": [
    "5. Copy element 44 and 55 from the following tuple into a new tuple\n",
    "tuple1 = (11, 22, 33, 44, 55, 66)\n",
    "Expected output:\n",
    "tuple2: (44, 55)\n"
   ]
  },
  {
   "cell_type": "code",
   "execution_count": 12,
   "id": "e5b0e4d6",
   "metadata": {},
   "outputs": [
    {
     "name": "stdout",
     "output_type": "stream",
     "text": [
      "(11, 22, 33, 44, 55, 66)\n",
      "(44, 55)\n"
     ]
    }
   ],
   "source": [
    "tuple1 = (11, 22, 33, 44, 55, 66) \n",
    "tuple2=tuple1[3:5]\n",
    "print(tuple1)\n",
    "print(tuple2)"
   ]
  },
  {
   "cell_type": "markdown",
   "id": "62fe06dd",
   "metadata": {},
   "source": [
    "6. Modify the first item (22) of a list inside a following tuple to 200\n",
    "tuple1 = (11, [22, 33], 44, 55)\n",
    "Expected output:\n",
    "tuple1: (11, [200, 33], 44, 55)\n"
   ]
  },
  {
   "cell_type": "code",
   "execution_count": 13,
   "id": "74ee68fb",
   "metadata": {},
   "outputs": [
    {
     "name": "stdout",
     "output_type": "stream",
     "text": [
      "(11, [200, 33], 44, 55)\n"
     ]
    }
   ],
   "source": [
    "tuple1 = (11, [22, 33], 44, 55)\n",
    "tuple1[1][0]=200\n",
    "print(tuple1)\n"
   ]
  },
  {
   "cell_type": "markdown",
   "id": "df4db308",
   "metadata": {},
   "source": [
    "7. Take two integer values in a & b. Swap their values using tuple, using temparary variable and without tuple and without temparary variable.\n",
    "Ex. a=10 b=23\n",
    "After swapping a=23 b=10\n"
   ]
  },
  {
   "cell_type": "markdown",
   "id": "c6a94c58",
   "metadata": {},
   "source": [
    "without temp"
   ]
  },
  {
   "cell_type": "code",
   "execution_count": 14,
   "id": "6994a436",
   "metadata": {},
   "outputs": [
    {
     "name": "stdout",
     "output_type": "stream",
     "text": [
      "enter the value of a45\n",
      "enter the value of b67\n",
      "45 67\n",
      "67 45\n"
     ]
    }
   ],
   "source": [
    "a=int(input(\"enter the value of a\"))\n",
    "b=int(input(\"enter the value of b\"))\n",
    "print(a,b)\n",
    "a,b=b,a\n",
    "print(a,b)"
   ]
  },
  {
   "cell_type": "markdown",
   "id": "00afef57",
   "metadata": {},
   "source": [
    "with temp"
   ]
  },
  {
   "cell_type": "code",
   "execution_count": 15,
   "id": "240b9aca",
   "metadata": {},
   "outputs": [
    {
     "name": "stdout",
     "output_type": "stream",
     "text": [
      "enter the value of a67\n",
      "enter the value of b34\n",
      "67 34\n",
      "34 67\n"
     ]
    }
   ],
   "source": [
    "a=int(input(\"enter the value of a\"))\n",
    "b=int(input(\"enter the value of b\"))\n",
    "print(a,b)\n",
    "temp=a\n",
    "a=b\n",
    "b=temp\n",
    "\n",
    "print(a,b)"
   ]
  },
  {
   "cell_type": "markdown",
   "id": "7ef4ff67",
   "metadata": {},
   "source": [
    "arthmatic method"
   ]
  },
  {
   "cell_type": "code",
   "execution_count": null,
   "id": "e1e71788",
   "metadata": {},
   "outputs": [],
   "source": []
  },
  {
   "cell_type": "markdown",
   "id": "c01262df",
   "metadata": {},
   "source": [
    "# Dictionary"
   ]
  },
  {
   "cell_type": "markdown",
   "id": "9bdb3081",
   "metadata": {},
   "source": [
    "1. In cryptography, a Caesar cipher is a very simple encryption techniques in which each letter in the plain text is replaced by a letter some fixed number of positions down the alphabet. For example, with a shift of 3, A would be replaced by D, B would become E, and so on. The method is named after Julius Caesar, who used it to communicate with his generals. ROT-13 (\"rotate by 13 places\") is a widely used\n",
    "example of a Caesar cipher where the shift is 13. In Python, the key for ROT-13 may be represented by means of the following dictionary\n",
    "{'a':'n', 'b':'o', 'c':'p', 'd':'q', 'e':'r', 'f':'s', 'g':'t', 'h':'u', 'i':'v', 'j':'w', 'k':'x', 'l':'y', 'm':'z', 'n':'a', 'o':'b', 'p':'c',\n",
    "'q':'d', 'r':'e', 's':'f', 't':'g', 'u':'h', 'v':'i', 'w':'j', 'x':'k', 'y':'l', 'z':'m', 'A':'N', 'B':'O', 'C':'P', 'D':'Q', 'E':'R', 'F':'S', 'G':'T', 'H':'U', 'I':'V', 'J':'W', 'K':'X', 'L':'Y', 'M':'Z', 'N':'A', 'O':'B', 'P':'C', 'Q':'D', 'R':'E', 'S':'F', 'T':'G', 'U':'H', 'V':'I', 'W':'J', 'X':'K', 'Y':'L', 'Z':'M'}\n",
    "Your task in this exercise is to implement an encoder/decoder of ROT-13. Once you're done, you will be able to read the following secret message:\n",
    "Pnrfne pvcure? V zhpu cersre Pnrfne fnynq!\n",
    "Note that since English has 26 characters, your ROT-13 program will be able to both encode and decode texts written in English."
   ]
  },
  {
   "cell_type": "code",
   "execution_count": 3,
   "id": "68af97cd",
   "metadata": {},
   "outputs": [
    {
     "name": "stdout",
     "output_type": "stream",
     "text": [
      "enter a messagehello\n",
      "['h', 'e', 'l', 'l', 'o']\n",
      "['a', 'b', 'c', 'd', 'e', 'f', 'g', 'h', 'i', 'j', 'k', 'l', 'm', 'n', 'o', 'p', 'q', 'r', 's', 't', 'u', 'v', 'w', 'x', 'y', 'z', 'A', 'B', 'C', 'D', 'E', 'F', 'G', 'H', 'I', 'J', 'K', 'L', 'M', 'N', 'O', 'P', 'Q', 'R', 'S', 'T', 'U', 'V', 'W', 'X', 'Y', 'Z']\n"
     ]
    }
   ],
   "source": [
    "d= {'a':'n', 'b':'o', 'c':'p', 'd':'q', 'e':'r', 'f':'s', 'g':'t', 'h':'u', 'i':'v', 'j':'w', 'k':'x', 'l':'y', 'm':'z', 'n':'a', 'o':'b', 'p':'c', 'q':'d', 'r':'e', 's':'f', 't':'g', 'u':'h', 'v':'i', 'w':'j', 'x':'k', 'y':'l', 'z':'m', 'A':'N', 'B':'O', 'C':'P', 'D':'Q', 'E':'R', 'F':'S', 'G':'T', 'H':'U', 'I':'V', 'J':'W', 'K':'X', 'L':'Y', 'M':'Z', 'N':'A', 'O':'B', 'P':'C', 'Q':'D', 'R':'E', 'S':'F', 'T':'G', 'U':'H', 'V':'I', 'W':'J', 'X':'K', 'Y':'L', 'Z':'M'}\n",
    "a=input(\"enter a message\")\n",
    "st=list(a)\n",
    "print(st)\n",
    "l1=list(d.keys())\n",
    "print(l1)\n",
    "for\n",
    "\n",
    "    \n",
    "   \n",
    "   "
   ]
  },
  {
   "cell_type": "code",
   "execution_count": 12,
   "id": "1e7f4dca",
   "metadata": {},
   "outputs": [
    {
     "name": "stdout",
     "output_type": "stream",
     "text": [
      "enter a messagepython\n"
     ]
    },
    {
     "ename": "TypeError",
     "evalue": "list indices must be integers or slices, not str",
     "output_type": "error",
     "traceback": [
      "\u001b[1;31m---------------------------------------------------------------------------\u001b[0m",
      "\u001b[1;31mTypeError\u001b[0m                                 Traceback (most recent call last)",
      "Cell \u001b[1;32mIn[12], line 6\u001b[0m\n\u001b[0;32m      4\u001b[0m \u001b[38;5;28;01mfor\u001b[39;00m i,e \u001b[38;5;129;01min\u001b[39;00m \u001b[38;5;28menumerate\u001b[39m(st):\n\u001b[0;32m      5\u001b[0m     \u001b[38;5;28;01mfor\u001b[39;00m key,value \u001b[38;5;129;01min\u001b[39;00m \u001b[38;5;28menumerate\u001b[39m(d):\n\u001b[1;32m----> 6\u001b[0m         \u001b[38;5;28;01mif\u001b[39;00m st[e]\u001b[38;5;241m==\u001b[39md[key]:\n\u001b[0;32m      7\u001b[0m             st[e]\u001b[38;5;241m=\u001b[39md[value]\n\u001b[0;32m      8\u001b[0m \u001b[38;5;28mprint\u001b[39m(st)\n",
      "\u001b[1;31mTypeError\u001b[0m: list indices must be integers or slices, not str"
     ]
    }
   ],
   "source": [
    "d1= {'a':'n', 'b':'o', 'c':'p', 'd':'q', 'e':'r', 'f':'s', 'g':'t', 'h':'u', 'i':'v', 'j':'w', 'k':'x', 'l':'y', 'm':'z', 'n':'a', 'o':'b', 'p':'c', 'q':'d', 'r':'e', 's':'f', 't':'g', 'u':'h', 'v':'i', 'w':'j', 'x':'k', 'y':'l', 'z':'m', 'A':'N', 'B':'O', 'C':'P', 'D':'Q', 'E':'R', 'F':'S', 'G':'T', 'H':'U', 'I':'V', 'J':'W', 'K':'X', 'L':'Y', 'M':'Z', 'N':'A', 'O':'B', 'P':'C', 'Q':'D', 'R':'E', 'S':'F', 'T':'G', 'U':'H', 'V':'I', 'W':'J', 'X':'K', 'Y':'L', 'Z':'M'}\n",
    "a=input(\"enter a message=\")\n",
    "st=list(a)\n",
    "for i,e in enumerate(st):\n",
    "    for key,value in enumerate(d1):\n",
    "        if st[e]==d1[key]:\n",
    "            st[e]=d1[value]\n",
    "print(st)"
   ]
  },
  {
   "cell_type": "code",
   "execution_count": 27,
   "id": "8f2493c1",
   "metadata": {},
   "outputs": [
    {
     "name": "stdout",
     "output_type": "stream",
     "text": [
      "Caesar cipher? I much prefer Caesar salad!\n"
     ]
    }
   ],
   "source": [
    "trans={'a':'n', 'b':'o', 'c':'p', 'd':'q', 'e':'r', 'f':'s', 'g':'t', 'h':'u', 'i':'v', \n",
    "    'j':'w', 'k':'x', 'l':'y', 'm':'z', 'n':'a', 'o':'b', 'p':'c', 'q':'d', 'r':'e', \n",
    "    's':'f', 't':'g', 'u':'h', 'v':'i', 'w':'j', 'x':'k', 'y':'l', 'z':'m', 'A':'N', \n",
    "    'B':'O', 'C':'P', 'D':'Q', 'E':'R', 'F':'S', 'G':'T', 'H':'U', 'I':'V', 'J':'W', \n",
    "    'K':'X', 'L':'Y', 'M':'Z', 'N':'A', 'O':'B', 'P':'C', 'Q':'D', 'R':'E', 'S':'F', \n",
    "    'T':'G', 'U':'H', 'V':'I', 'W':'J', 'X':'K', 'Y':'L', 'Z':'M'}\n",
    "s=\"Pnrfne pvcure? V zhpu cersre Pnrfne fnynq!\"\n",
    "new_mess=\"\"\n",
    "for char in s:\n",
    "    \n",
    "    if (char==\" \")|(char==\"?\")|(char==\"!\"):\n",
    "        new_char=char\n",
    "        new_mess=new_mess+new_char\n",
    "    else:\n",
    "        new_char = trans[char]\n",
    "        new_mess = new_mess + new_char\n",
    "        \n",
    "print(new_mess)"
   ]
  },
  {
   "cell_type": "markdown",
   "id": "c16211bf",
   "metadata": {},
   "source": [
    "2. Given a dictionary of students and their favourite colours:\n",
    "people={'Arham':'Blue','Lisa':'Yellow',''Vinod:'Purple','Jenny':'Pink'}\n",
    "a. Find out how many students are in the list\n",
    "b. Change Lisa’s favourite colour\n",
    "c. Remove 'Jenny' and her favourite colour"
   ]
  },
  {
   "cell_type": "code",
   "execution_count": 9,
   "id": "9d7b9517",
   "metadata": {},
   "outputs": [
    {
     "name": "stdout",
     "output_type": "stream",
     "text": [
      "{'Arham': 'Blue', 'Lisa': 'Yellow', 'Vinod': 'Purple', 'Jenny': 'Pink'}\n",
      "['Arham', 'Lisa', 'Vinod', 'Jenny']\n",
      "{'Arham': 'Blue', 'Lisa': 'Green', 'Vinod': 'Purple', 'Jenny': 'Pink'}\n",
      "{'Arham': 'Blue', 'Lisa': 'Green', 'Vinod': 'Purple'}\n"
     ]
    },
    {
     "ename": "NameError",
     "evalue": "name 'value' is not defined",
     "output_type": "error",
     "traceback": [
      "\u001b[1;31m---------------------------------------------------------------------------\u001b[0m",
      "\u001b[1;31mNameError\u001b[0m                                 Traceback (most recent call last)",
      "Cell \u001b[1;32mIn[9], line 9\u001b[0m\n\u001b[0;32m      7\u001b[0m \u001b[38;5;28;01mdel\u001b[39;00m people[\u001b[38;5;124m'\u001b[39m\u001b[38;5;124mJenny\u001b[39m\u001b[38;5;124m'\u001b[39m]\n\u001b[0;32m      8\u001b[0m \u001b[38;5;28mprint\u001b[39m(people)\n\u001b[1;32m----> 9\u001b[0m \u001b[38;5;28mprint\u001b[39m(\u001b[38;5;28msorted\u001b[39m(people,value))\n",
      "\u001b[1;31mNameError\u001b[0m: name 'value' is not defined"
     ]
    }
   ],
   "source": [
    "people={'Arham':'Blue','Lisa':'Yellow','Vinod':'Purple','Jenny':'Pink'}\n",
    "print(people)\n",
    "l1=list(people.keys())\n",
    "print(l1)\n",
    "people['Lisa']='Green'\n",
    "print(people)\n",
    "del people['Jenny']\n",
    "print(people)\n",
    "print(sorted(people,value))"
   ]
  },
  {
   "cell_type": "markdown",
   "id": "ae09b3ba",
   "metadata": {},
   "source": [
    "3. Write a menu driven program to practice Dictionary functions.\n",
    "Write a program to accept name of a person and their vehicle and store it in a dictionary.\n",
    "Ask user if they want to continue to accept multiple values.\n",
    "Display following menu:\n",
    "a. Add new person name and a vehicle name.\n",
    "b. Delete a person name and vehicle name from the dictionary.\n",
    "----Accept person name from user.\n",
    "----Check whether person name exists in the dictionary.\n",
    "----If exists show person name and vehicle name to the user.\n",
    "----Confirm for deletion, if user enters y\n",
    "then delete otherwise no. Display appropriate message.\n",
    "c. Modify vehicle name for the person\n",
    "----Accept a person name from user.\n",
    "----Check whether the person’s name exists.\n",
    "----If the name exists, show the person’s name and vehicle name to user.\n",
    "Ask for new value and then overwrite the old value.\n",
    "d. Search vehicle for the given person’s name.\n",
    "e. Search list of people, who have given a vehicle\n",
    "f. Display all person names.\n",
    "g. Display all vehicle names.\n",
    "h. Exit\n",
    "\n",
    "\n",
    "4. Write a program to display following menu and do the following:\n",
    "a. Add new city and trees commonly found in the city.\n",
    "b. Display all cities and the list of trees for all cities.\n",
    "c. Display list of trees of a particular city.\n",
    "---- Accept a city from user search city and if found display list of trees otherwise\n",
    "---- Display message not found\n",
    "d. Display cities which have the given tree.\n",
    "---- Accept a tree name from user and display all cities in which the tree is found.\n",
    "e. Delete city ---- Accept city from user and delete the city if found.\n",
    "---- Prompt user before deletion\n",
    "f. Modify tree list\n",
    "---- Accept city and trees to be added in the city. if city exist add trees at the end of the list\n",
    "---- Otherwise add city and list\n",
    "g. Exit"
   ]
  },
  {
   "cell_type": "code",
   "execution_count": 10,
   "id": "2ff9ac95",
   "metadata": {},
   "outputs": [
    {
     "name": "stdout",
     "output_type": "stream",
     "text": [
      "a. Add new city and trees commonly found in the city. Display all cities and the list of trees for all cities. Display list of trees of a particular city. Display cities which have the given tree Delete city ---- Accept city from user and delete the city if found. Modify tree list Exit\n"
     ]
    }
   ],
   "source": [
    "print(\"a. Add new city and trees commonly found in the city. Display all cities and the list of trees for all cities. Display list of trees of a particular city. Display cities which have the given tree Delete city ---- Accept city from user and delete the city if found. Modify tree list Exit\")\n"
   ]
  },
  {
   "cell_type": "code",
   "execution_count": 11,
   "id": "6fe2b60c",
   "metadata": {},
   "outputs": [
    {
     "name": "stdout",
     "output_type": "stream",
     "text": [
      "{'Mumbai': ['Coconut', 'oak', 'mango'], 'pune': ['oak', 'palm'], 'nashik': ['coconut']}\n"
     ]
    }
   ],
   "source": [
    "d1={'Mumbai':['Coconut','oak','mango'],'pune':['oak','palm'],'nashik':['coconut']}\n",
    "print(d1)"
   ]
  },
  {
   "cell_type": "code",
   "execution_count": 12,
   "id": "425f7494",
   "metadata": {},
   "outputs": [
    {
     "name": "stdout",
     "output_type": "stream",
     "text": [
      "{'Mumbai': ['Coconut', 'oak', 'mango'], 'pune': ['oak', 'palm'], 'nashik': ['coconut'], 'nanded': ['mango', 'oak']}\n"
     ]
    }
   ],
   "source": [
    "d1['nanded']=['mango','oak']\n",
    "print(d1)"
   ]
  },
  {
   "cell_type": "code",
   "execution_count": 19,
   "id": "8c3fdbca",
   "metadata": {},
   "outputs": [
    {
     "name": "stdout",
     "output_type": "stream",
     "text": [
      "Mumbai ['Coconut', 'oak', 'mango']\n",
      "pune ['oak', 'palm']\n",
      "nashik ['coconut']\n",
      "nanded ['mango', 'oak']\n"
     ]
    }
   ],
   "source": [
    "for keys,value in d1.items():\n",
    "    print(keys,value)"
   ]
  },
  {
   "cell_type": "code",
   "execution_count": 20,
   "id": "e4b8f392",
   "metadata": {},
   "outputs": [],
   "source": [
    "sample_dict={'pune':['mango','banana','pine','teak_wood','neem'],\n",
    "            'mumbai':['coconut','palm'],\n",
    "            }\n",
    "new_city='noida'\n",
    "trees =['coconut','palm']"
   ]
  },
  {
   "cell_type": "code",
   "execution_count": 21,
   "id": "35d966f3",
   "metadata": {},
   "outputs": [
    {
     "name": "stdout",
     "output_type": "stream",
     "text": [
      "{'pune': ['mango', 'banana', 'pine', 'teak_wood', 'neem'], 'mumbai': ['coconut', 'palm'], 'noida': ['coconut', 'palm']}\n"
     ]
    }
   ],
   "source": [
    "sample_dict[new_city] = trees\n",
    "print(sample_dict)"
   ]
  },
  {
   "cell_type": "code",
   "execution_count": 25,
   "id": "4f73a695",
   "metadata": {},
   "outputs": [
    {
     "name": "stdout",
     "output_type": "stream",
     "text": [
      "enter the choicenanded\n",
      "enter the tree by ,oak,coconut\n",
      "['oak', 'coconut']\n"
     ]
    }
   ],
   "source": [
    "new_city=input(\"enter the choice\")\n",
    "tree = input(\"enter the tree by ,\")\n",
    "trees=tree.split(',')\n",
    "print(trees)"
   ]
  },
  {
   "cell_type": "code",
   "execution_count": 28,
   "id": "96eaf386",
   "metadata": {},
   "outputs": [
    {
     "name": "stdout",
     "output_type": "stream",
     "text": [
      "enter the citypune\n",
      "dict_values([['mango', 'banana', 'pine', 'teak_wood', 'neem'], ['coconut', 'palm'], ['coconut', 'palm']])\n"
     ]
    }
   ],
   "source": [
    "city=input(\"enter the city\")\n",
    "for val in sample_dict.keys():\n",
    "    if city in val:\n",
    "        print(sample_dict.values())\n",
    "    else:\n",
    "        print(\"city not found\")"
   ]
  },
  {
   "cell_type": "code",
   "execution_count": null,
   "id": "49db311e",
   "metadata": {},
   "outputs": [],
   "source": [
    "city=input(\"enter the choice\")\n",
    "tree = input(\"enter the tree by ,\")\n",
    "trees=tree.split(',')\n",
    "print(trees)\n",
    "for val in sample_dict.keys():\n",
    "    if city in val:\n",
    "        \n"
   ]
  },
  {
   "cell_type": "code",
   "execution_count": 19,
   "id": "f2e155c7",
   "metadata": {},
   "outputs": [
    {
     "name": "stdout",
     "output_type": "stream",
     "text": [
      "enter the choicea\n",
      "enter the citybanglore\n",
      "enter the tree by ,fir\n",
      "{'pune': ['mango', 'banana', 'pine', 'teak_wood', 'neem'], 'mumbai': ['coconut', 'palm'], 'banglore': ['fir']}\n",
      "enter the choiceb\n",
      "pune ['mango', 'banana', 'pine', 'teak_wood', 'neem']\n",
      "mumbai ['coconut', 'palm']\n",
      "banglore ['fir']\n",
      "enter the choicef\n",
      "exit\n"
     ]
    }
   ],
   "source": [
    "sample_dict={'pune':['mango','banana','pine','teak_wood','neem'],\n",
    "            'mumbai':['coconut','palm'],\n",
    "            }\n",
    "while(True):\n",
    "    choice=input(\"enter the choice\")\n",
    "    match choice:\n",
    "        case 'a':\n",
    "            new_city=input(\"enter the city\")\n",
    "            tree = input(\"enter the tree by ,\")\n",
    "            trees=tree.split(',')\n",
    "            sample_dict[new_city] = trees\n",
    "            print(sample_dict)\n",
    "        case 'b':\n",
    "            for keys,value in sample_dict.items():\n",
    "                print(keys,value)\n",
    "        case 'c':\n",
    "            city=input(\"enter the city\")\n",
    "            for val in sample_dict.keys():\n",
    "                if city in val:\n",
    "                    print(sample_dict.values())\n",
    "                else:\n",
    "                    print(\"city not found\")\n",
    "        case 'd':\n",
    "            trees = input(\"enter the tree by ,\")\n",
    "            for val in sample_dict.values():\n",
    "                if trees in val:\n",
    "                    print(sample_dict.keys())\n",
    "                else:\n",
    "                    print(\"tree not found\")\n",
    "        case 'e':\n",
    "            city=input(\"enter the city\")\n",
    "            for val in sample_dict.keys():\n",
    "                if city in val:\n",
    "                    del sample_dict[city]\n",
    "                    print(sample_dict)\n",
    "        case 'f':\n",
    "            print(\"exit\")\n",
    "            break\n",
    "\n",
    "            \n",
    "            \n",
    "            \n",
    "            "
   ]
  },
  {
   "cell_type": "markdown",
   "id": "bfa40664",
   "metadata": {},
   "source": [
    "5. Take a sentence as input from user. Every word is seperated by space. \n",
    "a. Create a word_count dictionary which will have unique words and their count. \n",
    "\n",
    "b. create suffix_count dictionary which will contain count of words ending with 's', 'es', 'ed', 'y', 'en' , etc.\n",
    "\n",
    "c. create dictionary word_length_count which will store length of word and count.\n",
    "Ex. \n",
    "input_sent= 'CDAC is in Pune'\n",
    "There are 2 words of length 4 and 2 words of length 2 so,\n",
    "word_length_count = {2:2, 4:2}\n"
   ]
  },
  {
   "cell_type": "code",
   "execution_count": 44,
   "id": "4fc82c2f",
   "metadata": {},
   "outputs": [
    {
     "name": "stdout",
     "output_type": "stream",
     "text": [
      "Enter a sentencewe are happy we are progressive people we have a target\n",
      "{'target': 1, 'are': 2, 'happy': 1, 'progressive': 1, 'a': 1, 'have': 1, 'we': 3, 'people': 1}\n"
     ]
    }
   ],
   "source": [
    "sent = input(\"Enter a sentence\")\n",
    "words = sent.lower().split()\n",
    "unique_words = set(words)\n",
    "word_count={}\n",
    "for word in unique_words:\n",
    "    word_count[word] = words.count(word)\n",
    "print(word_count)\n"
   ]
  },
  {
   "cell_type": "code",
   "execution_count": 43,
   "id": "7c1d11bb",
   "metadata": {},
   "outputs": [
    {
     "name": "stdout",
     "output_type": "stream",
     "text": [
      "['hi', 'hi', 'python']\n",
      "python\n",
      "on\n"
     ]
    },
    {
     "ename": "TypeError",
     "evalue": "unsupported operand type(s) for |: 'str' and 'str'",
     "output_type": "error",
     "traceback": [
      "\u001b[1;31m---------------------------------------------------------------------------\u001b[0m",
      "\u001b[1;31mTypeError\u001b[0m                                 Traceback (most recent call last)",
      "Cell \u001b[1;32mIn[43], line 8\u001b[0m\n\u001b[0;32m      6\u001b[0m \u001b[38;5;28mprint\u001b[39m(l2)\n\u001b[0;32m      7\u001b[0m count\u001b[38;5;241m=\u001b[39m\u001b[38;5;241m1\u001b[39m\n\u001b[1;32m----> 8\u001b[0m \u001b[38;5;28;01mif\u001b[39;00m l2\u001b[38;5;241m==\u001b[39m\u001b[38;5;124m'\u001b[39m\u001b[38;5;124ms\u001b[39m\u001b[38;5;124m'\u001b[39m\u001b[38;5;241m|\u001b[39ml2\u001b[38;5;241m==\u001b[39m\u001b[38;5;124m'\u001b[39m\u001b[38;5;124mes\u001b[39m\u001b[38;5;124m'\u001b[39m\u001b[38;5;241m|\u001b[39ml2\u001b[38;5;241m==\u001b[39m\u001b[38;5;124m'\u001b[39m\u001b[38;5;124my\u001b[39m\u001b[38;5;124m'\u001b[39m\u001b[38;5;241m|\u001b[39ml2\u001b[38;5;241m==\u001b[39m\u001b[38;5;124m'\u001b[39m\u001b[38;5;124mon\u001b[39m\u001b[38;5;124m'\u001b[39m:\n\u001b[0;32m      9\u001b[0m     count\u001b[38;5;241m=\u001b[39mcount\u001b[38;5;241m+\u001b[39m\u001b[38;5;241m1\u001b[39m\n",
      "\u001b[1;31mTypeError\u001b[0m: unsupported operand type(s) for |: 'str' and 'str'"
     ]
    }
   ],
   "source": [
    "for val in unique_words"
   ]
  },
  {
   "cell_type": "code",
   "execution_count": null,
   "id": "4f33fba7",
   "metadata": {},
   "outputs": [],
   "source": []
  }
 ],
 "metadata": {
  "kernelspec": {
   "display_name": "Python 3 (ipykernel)",
   "language": "python",
   "name": "python3"
  },
  "language_info": {
   "codemirror_mode": {
    "name": "ipython",
    "version": 3
   },
   "file_extension": ".py",
   "mimetype": "text/x-python",
   "name": "python",
   "nbconvert_exporter": "python",
   "pygments_lexer": "ipython3",
   "version": "3.11.4"
  }
 },
 "nbformat": 4,
 "nbformat_minor": 5
}
